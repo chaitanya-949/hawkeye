{
  "nbformat": 4,
  "nbformat_minor": 0,
  "metadata": {
    "colab": {
      "provenance": [],
      "collapsed_sections": [
        "vncDsAP0Gaoa",
        "FJNUwmbgGyua",
        "w6K7xa23Elo4",
        "yQaldy8SH6Dl",
        "PH-0ReGfmX4f",
        "mDgbUHAGgjLW",
        "O_i_v8NEhb9l",
        "HhfV-JJviCcP",
        "Y3lxredqlCYt",
        "3RnN4peoiCZX",
        "x71ZqKXriCWQ",
        "7hBIi_osiCS2",
        "JlHwYmJAmNHm",
        "35m5QtbWiB9F",
        "PoPl-ycgm1ru",
        "H0kj-8xxnORC",
        "nA9Y7ga8ng1Z",
        "PBTbrJXOngz2",
        "u3PMJOP6ngxN",
        "dauF4eBmngu3",
        "bKJF3rekwFvQ",
        "MSa1f5Uengrz",
        "GF8Ens_Soomf",
        "0wOQAZs5pc--",
        "K5QZ13OEpz2H",
        "lQ7QKXXCp7Bj",
        "448CDAPjqfQr",
        "KSlN3yHqYklG",
        "t6dVpIINYklI",
        "ijmpgYnKYklI",
        "-JiQyfWJYklI",
        "EM7whBJCYoAo",
        "fge-S5ZAYoAp",
        "85gYPyotYoAp",
        "RoGjAbkUYoAp",
        "4Of9eVA-YrdM",
        "iky9q4vBYrdO",
        "F6T5p64dYrdO",
        "y-Ehk30pYrdP",
        "bamQiAODYuh1",
        "QHF8YVU7Yuh3",
        "GwzvFGzlYuh3",
        "qYpmQ266Yuh3",
        "OH-pJp9IphqM",
        "bbFf2-_FphqN",
        "_ouA3fa0phqN",
        "Seke61FWphqN",
        "PIIx-8_IphqN",
        "t27r6nlMphqO",
        "r2jJGEOYphqO",
        "b0JNsNcRphqO",
        "BZR9WyysphqO",
        "jj7wYXLtphqO",
        "eZrbJ2SmphqO",
        "rFu4xreNphqO",
        "YJ55k-q6phqO",
        "gCFgpxoyphqP",
        "OVtJsKN_phqQ",
        "lssrdh5qphqQ",
        "U2RJ9gkRphqQ",
        "1M8mcRywphqQ",
        "tgIPom80phqQ",
        "JMzcOPDDphqR",
        "x-EpHcCOp1ci",
        "X_VqEhTip1ck",
        "8zGJKyg5p1ck",
        "PVzmfK_Ep1ck",
        "n3dbpmDWp1ck",
        "ylSl6qgtp1ck",
        "ZWILFDl5p1ck",
        "M7G43BXep1ck",
        "Ag9LCva-p1cl",
        "E6MkPsBcp1cl",
        "2cELzS2fp1cl",
        "3MPXvC8up1cl",
        "NC_X3p0fY2L0",
        "UV0SzAkaZNRQ",
        "YPEH6qLeZNRQ",
        "q29F0dvdveiT",
        "EXh0U9oCveiU",
        "22aHeOlLveiV",
        "JcMwzZxoAimU",
        "8G2x9gOozGDZ",
        "gCX9965dhzqZ",
        "gIfDvo9L0UH2"
      ],
      "include_colab_link": true
    },
    "kernelspec": {
      "name": "python3",
      "display_name": "Python 3"
    },
    "language_info": {
      "name": "python"
    },
    "gpuClass": "standard"
  },
  "cells": [
    {
      "cell_type": "markdown",
      "metadata": {
        "id": "view-in-github",
        "colab_type": "text"
      },
      "source": [
        "<a href=\"https://colab.research.google.com/github/chaitanya-949/hawkeye/blob/main/EDA_Submission_Template.ipynb\" target=\"_parent\"><img src=\"https://colab.research.google.com/assets/colab-badge.svg\" alt=\"Open In Colab\"/></a>"
      ]
    },
    {
      "cell_type": "markdown",
      "source": [
        "# **Project Name**    - Hotel bookings analysis\n",
        "\n"
      ],
      "metadata": {
        "id": "vncDsAP0Gaoa"
      }
    },
    {
      "cell_type": "markdown",
      "source": [
        "##### **Project Type**    - EDA\n",
        "##### **Contribution**    - Individual\n"
      ],
      "metadata": {
        "id": "beRrZCGUAJYm"
      }
    },
    {
      "cell_type": "markdown",
      "source": [
        "# **Project Summary -**\n",
        "\n",
        "\n",
        "We are given a hotel bookings dataset. This dataset contains booking information for a city hotel and a resort hotel. It contains the following features.\n",
        "\n",
        "- hotel: Name of hotel ( City or Resort)\n",
        "- is_canceled: Whether the booking is canceled or not (0 for no canceled and 1 for canceled)\n",
        "- lead_time: time (in days) between booking transaction and actual arrival.\n",
        "- arrival_date_year: Year of arrival\n",
        "- arrival_date_month: month of arrival\n",
        "- arrival_date_week_number: week number of arrival date.\n",
        "- arrival_date_day_of_month: Day of month of arrival date\n",
        "- stays_in_weekend_nights: No. of weekend nights spent in a hotel\n",
        "- stays_in_week_nights: No. of weeknights spent in a hotel\n",
        "- adults: No. of adults in single booking record.\n",
        "- children: No. of children in single booking record.\n",
        "- babies: No. of babies in single booking record.\n",
        "- meal: Type of meal chosen\n",
        "- country: Country of origin of customers (as mentioned by them)\n",
        "- market_segment: What segment via booking was made and for what purpose.\n",
        "- distribution_channel: Via which medium booking was made.\n",
        "- is_repeated_guest: Whether the customer has made any booking before(0 for No and 1 for\n",
        "                     Yes)\n",
        "- previous_cancellations: No. of previous canceled bookings.\n",
        "- previous_bookings_not_canceled: No. of previous non-canceled bookings.\n",
        "- reserved_room_type: Room type reserved by a customer.\n",
        "- assigned_room_type: Room type assigned to the customer.\n",
        "- booking_changes: No. of booking changes done by customers\n",
        "- deposit_type: Type of deposit at the time of making a booking (No deposit/ Refundable/ No refund)\n",
        "- agent: Id of agent for booking\n",
        "- company: Id of the company making a booking\n",
        "- days_in_waiting_list: No. of days on waiting list.\n",
        "- customer_type: Type of customer(Transient, Group, etc.)\n",
        "- adr: Average Daily rate.\n",
        "- required_car_parking_spaces: No. of car parking asked in booking\n",
        "- total_of_special_requests: total no. of special request.\n",
        "- reservation_status: Whether a customer has checked out or canceled,or not showed\n",
        "- reservation_status_date: Date of making reservation status."
      ],
      "metadata": {
        "id": "FJNUwmbgGyua"
      }
    },
    {
      "cell_type": "markdown",
      "source": [
        "Write the summary here within 500-600 words."
      ],
      "metadata": {
        "id": "F6v_1wHtG2nS"
      }
    },
    {
      "cell_type": "markdown",
      "source": [
        "# **GitHub Link -**"
      ],
      "metadata": {
        "id": "w6K7xa23Elo4"
      }
    },
    {
      "cell_type": "markdown",
      "source": [
        "https://github.com/chaitanya-949/hawkeye"
      ],
      "metadata": {
        "id": "h1o69JH3Eqqn"
      }
    },
    {
      "cell_type": "markdown",
      "source": [
        "# **Problem Statement**\n"
      ],
      "metadata": {
        "id": "yQaldy8SH6Dl"
      }
    },
    {
      "cell_type": "markdown",
      "source": [
        "**Write Problem Statement Here.**"
      ],
      "metadata": {
        "id": "DpeJGUA3kjGy"
      }
    },
    {
      "cell_type": "markdown",
      "source": [
        "#### **Define Your Business Objective?**"
      ],
      "metadata": {
        "id": "PH-0ReGfmX4f"
      }
    },
    {
      "cell_type": "markdown",
      "source": [
        "We are provided with a hotel bookings dataset.\n",
        "\n",
        "Out main objective is perform EDA on the given dataset and draw useful conclusions about general trends in hotel bookings and how factors governing hotel bookings interact with each other."
      ],
      "metadata": {
        "id": "PhDvGCAqmjP1"
      }
    },
    {
      "cell_type": "markdown",
      "source": [
        "# **General Guidelines** : -  "
      ],
      "metadata": {
        "id": "mDgbUHAGgjLW"
      }
    },
    {
      "cell_type": "markdown",
      "source": [
        "1.   Well-structured, formatted, and commented code is required.\n",
        "2.   Exception Handling, Production Grade Code & Deployment Ready Code will be a plus. Those students will be awarded some additional credits.\n",
        "     \n",
        "     The additional credits will have advantages over other students during Star Student selection.\n",
        "       \n",
        "             [ Note: - Deployment Ready Code is defined as, the whole .ipynb notebook should be executable in one go\n",
        "                       without a single error logged. ]\n",
        "\n",
        "3.   Each and every logic should have proper comments.\n",
        "4. You may add as many number of charts you want. Make Sure for each and every chart the following format should be answered.\n",
        "        \n",
        "\n",
        "nsights that lead to negative growth? Justify with specific reason.\n",
        "\n",
        "5. You have to create at least 20 logical & meaningful charts having important insights.\n",
        "\n",
        "\n",
        "\n",
        "\n",
        "\n",
        "\n"
      ],
      "metadata": {
        "id": "ZrxVaUj-hHfC"
      }
    },
    {
      "cell_type": "markdown",
      "source": [
        "# ***Let's Begin !***"
      ],
      "metadata": {
        "id": "O_i_v8NEhb9l"
      }
    },
    {
      "cell_type": "markdown",
      "source": [
        "## ***1. Know Your Data***"
      ],
      "metadata": {
        "id": "HhfV-JJviCcP"
      }
    },
    {
      "cell_type": "markdown",
      "source": [
        "### Import Libraries"
      ],
      "metadata": {
        "id": "Y3lxredqlCYt"
      }
    },
    {
      "cell_type": "code",
      "source": [
        "# Import libraries\n",
        "import numpy as np\n",
        "import pandas as pd\n",
        "import matplotlib.pyplot as plt\n",
        "import seaborn as sns\n",
        "%matplotlib inline"
      ],
      "metadata": {
        "id": "M8Vqi-pPk-HR"
      },
      "execution_count": null,
      "outputs": []
    },
    {
      "cell_type": "markdown",
      "source": [
        "### Dataset Loading"
      ],
      "metadata": {
        "id": "3RnN4peoiCZX"
      }
    },
    {
      "cell_type": "code",
      "source": [
        "# Load Dataset\n",
        "from google.colab import drive\n",
        "drive.mount('/content/drive')"
      ],
      "metadata": {
        "id": "4CkvbW_SlZ_R",
        "colab": {
          "base_uri": "https://localhost:8080/"
        },
        "outputId": "4fb16946-58ee-40ed-e81c-35a86dd497da"
      },
      "execution_count": null,
      "outputs": [
        {
          "output_type": "stream",
          "name": "stdout",
          "text": [
            "Mounted at /content/drive\n"
          ]
        }
      ]
    },
    {
      "cell_type": "code",
      "source": [
        "file_path='/content/drive/MyDrive/Telecom Churn.csv'\n",
        "df=pd.read_csv(file_path)"
      ],
      "metadata": {
        "id": "HelqcCKRYcgM"
      },
      "execution_count": null,
      "outputs": []
    },
    {
      "cell_type": "markdown",
      "source": [
        "### Dataset First View"
      ],
      "metadata": {
        "id": "x71ZqKXriCWQ"
      }
    },
    {
      "cell_type": "code",
      "source": [
        "# Dataset First Look\n",
        "df.head()"
      ],
      "metadata": {
        "id": "LWNFOSvLl09H",
        "colab": {
          "base_uri": "https://localhost:8080/",
          "height": 285
        },
        "outputId": "6c82d858-511b-45e8-f8d1-1d8b5559a3ef"
      },
      "execution_count": null,
      "outputs": [
        {
          "output_type": "execute_result",
          "data": {
            "text/plain": [
              "  State  Account length  Area code International plan Voice mail plan  \\\n",
              "0    KS             128        415                 No             Yes   \n",
              "1    OH             107        415                 No             Yes   \n",
              "2    NJ             137        415                 No              No   \n",
              "3    OH              84        408                Yes              No   \n",
              "4    OK              75        415                Yes              No   \n",
              "\n",
              "   Number vmail messages  Total day minutes  Total day calls  \\\n",
              "0                     25              265.1              110   \n",
              "1                     26              161.6              123   \n",
              "2                      0              243.4              114   \n",
              "3                      0              299.4               71   \n",
              "4                      0              166.7              113   \n",
              "\n",
              "   Total day charge  Total eve minutes  Total eve calls  Total eve charge  \\\n",
              "0             45.07              197.4               99             16.78   \n",
              "1             27.47              195.5              103             16.62   \n",
              "2             41.38              121.2              110             10.30   \n",
              "3             50.90               61.9               88              5.26   \n",
              "4             28.34              148.3              122             12.61   \n",
              "\n",
              "   Total night minutes  Total night calls  Total night charge  \\\n",
              "0                244.7                 91               11.01   \n",
              "1                254.4                103               11.45   \n",
              "2                162.6                104                7.32   \n",
              "3                196.9                 89                8.86   \n",
              "4                186.9                121                8.41   \n",
              "\n",
              "   Total intl minutes  Total intl calls  Total intl charge  \\\n",
              "0                10.0                 3               2.70   \n",
              "1                13.7                 3               3.70   \n",
              "2                12.2                 5               3.29   \n",
              "3                 6.6                 7               1.78   \n",
              "4                10.1                 3               2.73   \n",
              "\n",
              "   Customer service calls  Churn  \n",
              "0                       1  False  \n",
              "1                       1  False  \n",
              "2                       0  False  \n",
              "3                       2  False  \n",
              "4                       3  False  "
            ],
            "text/html": [
              "\n",
              "  <div id=\"df-aba9ea61-0150-4f06-9f39-e5741994e36d\">\n",
              "    <div class=\"colab-df-container\">\n",
              "      <div>\n",
              "<style scoped>\n",
              "    .dataframe tbody tr th:only-of-type {\n",
              "        vertical-align: middle;\n",
              "    }\n",
              "\n",
              "    .dataframe tbody tr th {\n",
              "        vertical-align: top;\n",
              "    }\n",
              "\n",
              "    .dataframe thead th {\n",
              "        text-align: right;\n",
              "    }\n",
              "</style>\n",
              "<table border=\"1\" class=\"dataframe\">\n",
              "  <thead>\n",
              "    <tr style=\"text-align: right;\">\n",
              "      <th></th>\n",
              "      <th>State</th>\n",
              "      <th>Account length</th>\n",
              "      <th>Area code</th>\n",
              "      <th>International plan</th>\n",
              "      <th>Voice mail plan</th>\n",
              "      <th>Number vmail messages</th>\n",
              "      <th>Total day minutes</th>\n",
              "      <th>Total day calls</th>\n",
              "      <th>Total day charge</th>\n",
              "      <th>Total eve minutes</th>\n",
              "      <th>Total eve calls</th>\n",
              "      <th>Total eve charge</th>\n",
              "      <th>Total night minutes</th>\n",
              "      <th>Total night calls</th>\n",
              "      <th>Total night charge</th>\n",
              "      <th>Total intl minutes</th>\n",
              "      <th>Total intl calls</th>\n",
              "      <th>Total intl charge</th>\n",
              "      <th>Customer service calls</th>\n",
              "      <th>Churn</th>\n",
              "    </tr>\n",
              "  </thead>\n",
              "  <tbody>\n",
              "    <tr>\n",
              "      <th>0</th>\n",
              "      <td>KS</td>\n",
              "      <td>128</td>\n",
              "      <td>415</td>\n",
              "      <td>No</td>\n",
              "      <td>Yes</td>\n",
              "      <td>25</td>\n",
              "      <td>265.1</td>\n",
              "      <td>110</td>\n",
              "      <td>45.07</td>\n",
              "      <td>197.4</td>\n",
              "      <td>99</td>\n",
              "      <td>16.78</td>\n",
              "      <td>244.7</td>\n",
              "      <td>91</td>\n",
              "      <td>11.01</td>\n",
              "      <td>10.0</td>\n",
              "      <td>3</td>\n",
              "      <td>2.70</td>\n",
              "      <td>1</td>\n",
              "      <td>False</td>\n",
              "    </tr>\n",
              "    <tr>\n",
              "      <th>1</th>\n",
              "      <td>OH</td>\n",
              "      <td>107</td>\n",
              "      <td>415</td>\n",
              "      <td>No</td>\n",
              "      <td>Yes</td>\n",
              "      <td>26</td>\n",
              "      <td>161.6</td>\n",
              "      <td>123</td>\n",
              "      <td>27.47</td>\n",
              "      <td>195.5</td>\n",
              "      <td>103</td>\n",
              "      <td>16.62</td>\n",
              "      <td>254.4</td>\n",
              "      <td>103</td>\n",
              "      <td>11.45</td>\n",
              "      <td>13.7</td>\n",
              "      <td>3</td>\n",
              "      <td>3.70</td>\n",
              "      <td>1</td>\n",
              "      <td>False</td>\n",
              "    </tr>\n",
              "    <tr>\n",
              "      <th>2</th>\n",
              "      <td>NJ</td>\n",
              "      <td>137</td>\n",
              "      <td>415</td>\n",
              "      <td>No</td>\n",
              "      <td>No</td>\n",
              "      <td>0</td>\n",
              "      <td>243.4</td>\n",
              "      <td>114</td>\n",
              "      <td>41.38</td>\n",
              "      <td>121.2</td>\n",
              "      <td>110</td>\n",
              "      <td>10.30</td>\n",
              "      <td>162.6</td>\n",
              "      <td>104</td>\n",
              "      <td>7.32</td>\n",
              "      <td>12.2</td>\n",
              "      <td>5</td>\n",
              "      <td>3.29</td>\n",
              "      <td>0</td>\n",
              "      <td>False</td>\n",
              "    </tr>\n",
              "    <tr>\n",
              "      <th>3</th>\n",
              "      <td>OH</td>\n",
              "      <td>84</td>\n",
              "      <td>408</td>\n",
              "      <td>Yes</td>\n",
              "      <td>No</td>\n",
              "      <td>0</td>\n",
              "      <td>299.4</td>\n",
              "      <td>71</td>\n",
              "      <td>50.90</td>\n",
              "      <td>61.9</td>\n",
              "      <td>88</td>\n",
              "      <td>5.26</td>\n",
              "      <td>196.9</td>\n",
              "      <td>89</td>\n",
              "      <td>8.86</td>\n",
              "      <td>6.6</td>\n",
              "      <td>7</td>\n",
              "      <td>1.78</td>\n",
              "      <td>2</td>\n",
              "      <td>False</td>\n",
              "    </tr>\n",
              "    <tr>\n",
              "      <th>4</th>\n",
              "      <td>OK</td>\n",
              "      <td>75</td>\n",
              "      <td>415</td>\n",
              "      <td>Yes</td>\n",
              "      <td>No</td>\n",
              "      <td>0</td>\n",
              "      <td>166.7</td>\n",
              "      <td>113</td>\n",
              "      <td>28.34</td>\n",
              "      <td>148.3</td>\n",
              "      <td>122</td>\n",
              "      <td>12.61</td>\n",
              "      <td>186.9</td>\n",
              "      <td>121</td>\n",
              "      <td>8.41</td>\n",
              "      <td>10.1</td>\n",
              "      <td>3</td>\n",
              "      <td>2.73</td>\n",
              "      <td>3</td>\n",
              "      <td>False</td>\n",
              "    </tr>\n",
              "  </tbody>\n",
              "</table>\n",
              "</div>\n",
              "      <button class=\"colab-df-convert\" onclick=\"convertToInteractive('df-aba9ea61-0150-4f06-9f39-e5741994e36d')\"\n",
              "              title=\"Convert this dataframe to an interactive table.\"\n",
              "              style=\"display:none;\">\n",
              "        \n",
              "  <svg xmlns=\"http://www.w3.org/2000/svg\" height=\"24px\"viewBox=\"0 0 24 24\"\n",
              "       width=\"24px\">\n",
              "    <path d=\"M0 0h24v24H0V0z\" fill=\"none\"/>\n",
              "    <path d=\"M18.56 5.44l.94 2.06.94-2.06 2.06-.94-2.06-.94-.94-2.06-.94 2.06-2.06.94zm-11 1L8.5 8.5l.94-2.06 2.06-.94-2.06-.94L8.5 2.5l-.94 2.06-2.06.94zm10 10l.94 2.06.94-2.06 2.06-.94-2.06-.94-.94-2.06-.94 2.06-2.06.94z\"/><path d=\"M17.41 7.96l-1.37-1.37c-.4-.4-.92-.59-1.43-.59-.52 0-1.04.2-1.43.59L10.3 9.45l-7.72 7.72c-.78.78-.78 2.05 0 2.83L4 21.41c.39.39.9.59 1.41.59.51 0 1.02-.2 1.41-.59l7.78-7.78 2.81-2.81c.8-.78.8-2.07 0-2.86zM5.41 20L4 18.59l7.72-7.72 1.47 1.35L5.41 20z\"/>\n",
              "  </svg>\n",
              "      </button>\n",
              "      \n",
              "  <style>\n",
              "    .colab-df-container {\n",
              "      display:flex;\n",
              "      flex-wrap:wrap;\n",
              "      gap: 12px;\n",
              "    }\n",
              "\n",
              "    .colab-df-convert {\n",
              "      background-color: #E8F0FE;\n",
              "      border: none;\n",
              "      border-radius: 50%;\n",
              "      cursor: pointer;\n",
              "      display: none;\n",
              "      fill: #1967D2;\n",
              "      height: 32px;\n",
              "      padding: 0 0 0 0;\n",
              "      width: 32px;\n",
              "    }\n",
              "\n",
              "    .colab-df-convert:hover {\n",
              "      background-color: #E2EBFA;\n",
              "      box-shadow: 0px 1px 2px rgba(60, 64, 67, 0.3), 0px 1px 3px 1px rgba(60, 64, 67, 0.15);\n",
              "      fill: #174EA6;\n",
              "    }\n",
              "\n",
              "    [theme=dark] .colab-df-convert {\n",
              "      background-color: #3B4455;\n",
              "      fill: #D2E3FC;\n",
              "    }\n",
              "\n",
              "    [theme=dark] .colab-df-convert:hover {\n",
              "      background-color: #434B5C;\n",
              "      box-shadow: 0px 1px 3px 1px rgba(0, 0, 0, 0.15);\n",
              "      filter: drop-shadow(0px 1px 2px rgba(0, 0, 0, 0.3));\n",
              "      fill: #FFFFFF;\n",
              "    }\n",
              "  </style>\n",
              "\n",
              "      <script>\n",
              "        const buttonEl =\n",
              "          document.querySelector('#df-aba9ea61-0150-4f06-9f39-e5741994e36d button.colab-df-convert');\n",
              "        buttonEl.style.display =\n",
              "          google.colab.kernel.accessAllowed ? 'block' : 'none';\n",
              "\n",
              "        async function convertToInteractive(key) {\n",
              "          const element = document.querySelector('#df-aba9ea61-0150-4f06-9f39-e5741994e36d');\n",
              "          const dataTable =\n",
              "            await google.colab.kernel.invokeFunction('convertToInteractive',\n",
              "                                                     [key], {});\n",
              "          if (!dataTable) return;\n",
              "\n",
              "          const docLinkHtml = 'Like what you see? Visit the ' +\n",
              "            '<a target=\"_blank\" href=https://colab.research.google.com/notebooks/data_table.ipynb>data table notebook</a>'\n",
              "            + ' to learn more about interactive tables.';\n",
              "          element.innerHTML = '';\n",
              "          dataTable['output_type'] = 'display_data';\n",
              "          await google.colab.output.renderOutput(dataTable, element);\n",
              "          const docLink = document.createElement('div');\n",
              "          docLink.innerHTML = docLinkHtml;\n",
              "          element.appendChild(docLink);\n",
              "        }\n",
              "      </script>\n",
              "    </div>\n",
              "  </div>\n",
              "  "
            ]
          },
          "metadata": {},
          "execution_count": 5
        }
      ]
    },
    {
      "cell_type": "markdown",
      "source": [
        "### Dataset Rows & Columns count"
      ],
      "metadata": {
        "id": "7hBIi_osiCS2"
      }
    },
    {
      "cell_type": "code",
      "source": [
        "# Dataset Rows & Columns count\n",
        "df.shape"
      ],
      "metadata": {
        "id": "Kllu7SJgmLij",
        "colab": {
          "base_uri": "https://localhost:8080/"
        },
        "outputId": "6b907afd-4a7e-4f7d-a9d8-3fbc1ef27414"
      },
      "execution_count": null,
      "outputs": [
        {
          "output_type": "execute_result",
          "data": {
            "text/plain": [
              "(3333, 20)"
            ]
          },
          "metadata": {},
          "execution_count": 6
        }
      ]
    },
    {
      "cell_type": "markdown",
      "source": [
        "### Dataset Information"
      ],
      "metadata": {
        "id": "JlHwYmJAmNHm"
      }
    },
    {
      "cell_type": "code",
      "source": [
        "# Dataset Info\n",
        "df.info()"
      ],
      "metadata": {
        "id": "e9hRXRi6meOf",
        "colab": {
          "base_uri": "https://localhost:8080/"
        },
        "outputId": "c4b44ef5-4a9c-4cfe-ee7f-9751210111df"
      },
      "execution_count": null,
      "outputs": [
        {
          "output_type": "stream",
          "name": "stdout",
          "text": [
            "<class 'pandas.core.frame.DataFrame'>\n",
            "RangeIndex: 3333 entries, 0 to 3332\n",
            "Data columns (total 20 columns):\n",
            " #   Column                  Non-Null Count  Dtype  \n",
            "---  ------                  --------------  -----  \n",
            " 0   State                   3333 non-null   object \n",
            " 1   Account length          3333 non-null   int64  \n",
            " 2   Area code               3333 non-null   int64  \n",
            " 3   International plan      3333 non-null   object \n",
            " 4   Voice mail plan         3333 non-null   object \n",
            " 5   Number vmail messages   3333 non-null   int64  \n",
            " 6   Total day minutes       3333 non-null   float64\n",
            " 7   Total day calls         3333 non-null   int64  \n",
            " 8   Total day charge        3333 non-null   float64\n",
            " 9   Total eve minutes       3333 non-null   float64\n",
            " 10  Total eve calls         3333 non-null   int64  \n",
            " 11  Total eve charge        3333 non-null   float64\n",
            " 12  Total night minutes     3333 non-null   float64\n",
            " 13  Total night calls       3333 non-null   int64  \n",
            " 14  Total night charge      3333 non-null   float64\n",
            " 15  Total intl minutes      3333 non-null   float64\n",
            " 16  Total intl calls        3333 non-null   int64  \n",
            " 17  Total intl charge       3333 non-null   float64\n",
            " 18  Customer service calls  3333 non-null   int64  \n",
            " 19  Churn                   3333 non-null   bool   \n",
            "dtypes: bool(1), float64(8), int64(8), object(3)\n",
            "memory usage: 498.1+ KB\n"
          ]
        }
      ]
    },
    {
      "cell_type": "markdown",
      "source": [
        "#### Duplicate Values"
      ],
      "metadata": {
        "id": "35m5QtbWiB9F"
      }
    },
    {
      "cell_type": "code",
      "source": [
        "# Dataset Duplicate Value Count\n",
        "df.duplicated().sum()"
      ],
      "metadata": {
        "id": "1sLdpKYkmox0",
        "colab": {
          "base_uri": "https://localhost:8080/"
        },
        "outputId": "f26dabc4-2539-4bdf-9e0b-6867ba065a46"
      },
      "execution_count": null,
      "outputs": [
        {
          "output_type": "execute_result",
          "data": {
            "text/plain": [
              "0"
            ]
          },
          "metadata": {},
          "execution_count": 8
        }
      ]
    },
    {
      "cell_type": "markdown",
      "source": [
        "#### Missing Values/Null Values"
      ],
      "metadata": {
        "id": "PoPl-ycgm1ru"
      }
    },
    {
      "cell_type": "code",
      "source": [
        "# Missing Values/Null Values Count\n",
        "df.isna().sum()"
      ],
      "metadata": {
        "id": "GgHWkxvamxVg",
        "colab": {
          "base_uri": "https://localhost:8080/"
        },
        "outputId": "e384cd6e-5985-433a-9c6f-c863e0c78941"
      },
      "execution_count": null,
      "outputs": [
        {
          "output_type": "execute_result",
          "data": {
            "text/plain": [
              "State                     0\n",
              "Account length            0\n",
              "Area code                 0\n",
              "International plan        0\n",
              "Voice mail plan           0\n",
              "Number vmail messages     0\n",
              "Total day minutes         0\n",
              "Total day calls           0\n",
              "Total day charge          0\n",
              "Total eve minutes         0\n",
              "Total eve calls           0\n",
              "Total eve charge          0\n",
              "Total night minutes       0\n",
              "Total night calls         0\n",
              "Total night charge        0\n",
              "Total intl minutes        0\n",
              "Total intl calls          0\n",
              "Total intl charge         0\n",
              "Customer service calls    0\n",
              "Churn                     0\n",
              "dtype: int64"
            ]
          },
          "metadata": {},
          "execution_count": 9
        }
      ]
    },
    {
      "cell_type": "code",
      "source": [
        "# Visualizing the missing values\n",
        "df['children']=df['children'].fillna(0)\n",
        "df['country']=df['country'].fillna('abc')\n",
        "df['agent']=df['agent'].fillna(0)\n",
        "df['company']=df['company'].fillna(0)\n"
      ],
      "metadata": {
        "id": "3q5wnI3om9sJ"
      },
      "execution_count": null,
      "outputs": []
    },
    {
      "cell_type": "markdown",
      "source": [
        "### What did you know about your dataset?"
      ],
      "metadata": {
        "id": "H0kj-8xxnORC"
      }
    },
    {
      "cell_type": "markdown",
      "source": [
        "by seeing the following hotel booking dataset i came to know there are some null values so i assumed and filled those values\n",
        "1-->in children,agent and company columns i filled with \"0\" because the dtype=float64\n",
        "2-->and in coutry column i filled with 'abc' to satisfy the dtype=object\n"
      ],
      "metadata": {
        "id": "gfoNAAC-nUe_"
      }
    },
    {
      "cell_type": "markdown",
      "source": [
        "## ***2. Understanding Your Variables***"
      ],
      "metadata": {
        "id": "nA9Y7ga8ng1Z"
      }
    },
    {
      "cell_type": "code",
      "source": [
        "# Dataset Columns\n",
        "df.columns"
      ],
      "metadata": {
        "id": "j7xfkqrt5Ag5",
        "colab": {
          "base_uri": "https://localhost:8080/"
        },
        "outputId": "37f5f2d6-70b8-411e-93c1-335aa8ccbde7"
      },
      "execution_count": null,
      "outputs": [
        {
          "output_type": "execute_result",
          "data": {
            "text/plain": [
              "Index(['State', 'Account length', 'Area code', 'International plan',\n",
              "       'Voice mail plan', 'Number vmail messages', 'Total day minutes',\n",
              "       'Total day calls', 'Total day charge', 'Total eve minutes',\n",
              "       'Total eve calls', 'Total eve charge', 'Total night minutes',\n",
              "       'Total night calls', 'Total night charge', 'Total intl minutes',\n",
              "       'Total intl calls', 'Total intl charge', 'Customer service calls',\n",
              "       'Churn'],\n",
              "      dtype='object')"
            ]
          },
          "metadata": {},
          "execution_count": 10
        }
      ]
    },
    {
      "cell_type": "code",
      "source": [
        "# Dataset Describe\n",
        "df.describe()"
      ],
      "metadata": {
        "id": "DnOaZdaE5Q5t",
        "colab": {
          "base_uri": "https://localhost:8080/",
          "height": 399
        },
        "outputId": "81f8a994-2483-4229-e4aa-448899dbbc8e"
      },
      "execution_count": null,
      "outputs": [
        {
          "output_type": "execute_result",
          "data": {
            "text/plain": [
              "       Account length    Area code  Number vmail messages  Total day minutes  \\\n",
              "count     3333.000000  3333.000000            3333.000000        3333.000000   \n",
              "mean       101.064806   437.182418               8.099010         179.775098   \n",
              "std         39.822106    42.371290              13.688365          54.467389   \n",
              "min          1.000000   408.000000               0.000000           0.000000   \n",
              "25%         74.000000   408.000000               0.000000         143.700000   \n",
              "50%        101.000000   415.000000               0.000000         179.400000   \n",
              "75%        127.000000   510.000000              20.000000         216.400000   \n",
              "max        243.000000   510.000000              51.000000         350.800000   \n",
              "\n",
              "       Total day calls  Total day charge  Total eve minutes  Total eve calls  \\\n",
              "count      3333.000000       3333.000000        3333.000000      3333.000000   \n",
              "mean        100.435644         30.562307         200.980348       100.114311   \n",
              "std          20.069084          9.259435          50.713844        19.922625   \n",
              "min           0.000000          0.000000           0.000000         0.000000   \n",
              "25%          87.000000         24.430000         166.600000        87.000000   \n",
              "50%         101.000000         30.500000         201.400000       100.000000   \n",
              "75%         114.000000         36.790000         235.300000       114.000000   \n",
              "max         165.000000         59.640000         363.700000       170.000000   \n",
              "\n",
              "       Total eve charge  Total night minutes  Total night calls  \\\n",
              "count       3333.000000          3333.000000        3333.000000   \n",
              "mean          17.083540           200.872037         100.107711   \n",
              "std            4.310668            50.573847          19.568609   \n",
              "min            0.000000            23.200000          33.000000   \n",
              "25%           14.160000           167.000000          87.000000   \n",
              "50%           17.120000           201.200000         100.000000   \n",
              "75%           20.000000           235.300000         113.000000   \n",
              "max           30.910000           395.000000         175.000000   \n",
              "\n",
              "       Total night charge  Total intl minutes  Total intl calls  \\\n",
              "count         3333.000000         3333.000000       3333.000000   \n",
              "mean             9.039325           10.237294          4.479448   \n",
              "std              2.275873            2.791840          2.461214   \n",
              "min              1.040000            0.000000          0.000000   \n",
              "25%              7.520000            8.500000          3.000000   \n",
              "50%              9.050000           10.300000          4.000000   \n",
              "75%             10.590000           12.100000          6.000000   \n",
              "max             17.770000           20.000000         20.000000   \n",
              "\n",
              "       Total intl charge  Customer service calls  \n",
              "count        3333.000000             3333.000000  \n",
              "mean            2.764581                1.562856  \n",
              "std             0.753773                1.315491  \n",
              "min             0.000000                0.000000  \n",
              "25%             2.300000                1.000000  \n",
              "50%             2.780000                1.000000  \n",
              "75%             3.270000                2.000000  \n",
              "max             5.400000                9.000000  "
            ],
            "text/html": [
              "\n",
              "  <div id=\"df-380aabb3-218c-41e1-a3c2-33e5adc3adf2\">\n",
              "    <div class=\"colab-df-container\">\n",
              "      <div>\n",
              "<style scoped>\n",
              "    .dataframe tbody tr th:only-of-type {\n",
              "        vertical-align: middle;\n",
              "    }\n",
              "\n",
              "    .dataframe tbody tr th {\n",
              "        vertical-align: top;\n",
              "    }\n",
              "\n",
              "    .dataframe thead th {\n",
              "        text-align: right;\n",
              "    }\n",
              "</style>\n",
              "<table border=\"1\" class=\"dataframe\">\n",
              "  <thead>\n",
              "    <tr style=\"text-align: right;\">\n",
              "      <th></th>\n",
              "      <th>Account length</th>\n",
              "      <th>Area code</th>\n",
              "      <th>Number vmail messages</th>\n",
              "      <th>Total day minutes</th>\n",
              "      <th>Total day calls</th>\n",
              "      <th>Total day charge</th>\n",
              "      <th>Total eve minutes</th>\n",
              "      <th>Total eve calls</th>\n",
              "      <th>Total eve charge</th>\n",
              "      <th>Total night minutes</th>\n",
              "      <th>Total night calls</th>\n",
              "      <th>Total night charge</th>\n",
              "      <th>Total intl minutes</th>\n",
              "      <th>Total intl calls</th>\n",
              "      <th>Total intl charge</th>\n",
              "      <th>Customer service calls</th>\n",
              "    </tr>\n",
              "  </thead>\n",
              "  <tbody>\n",
              "    <tr>\n",
              "      <th>count</th>\n",
              "      <td>3333.000000</td>\n",
              "      <td>3333.000000</td>\n",
              "      <td>3333.000000</td>\n",
              "      <td>3333.000000</td>\n",
              "      <td>3333.000000</td>\n",
              "      <td>3333.000000</td>\n",
              "      <td>3333.000000</td>\n",
              "      <td>3333.000000</td>\n",
              "      <td>3333.000000</td>\n",
              "      <td>3333.000000</td>\n",
              "      <td>3333.000000</td>\n",
              "      <td>3333.000000</td>\n",
              "      <td>3333.000000</td>\n",
              "      <td>3333.000000</td>\n",
              "      <td>3333.000000</td>\n",
              "      <td>3333.000000</td>\n",
              "    </tr>\n",
              "    <tr>\n",
              "      <th>mean</th>\n",
              "      <td>101.064806</td>\n",
              "      <td>437.182418</td>\n",
              "      <td>8.099010</td>\n",
              "      <td>179.775098</td>\n",
              "      <td>100.435644</td>\n",
              "      <td>30.562307</td>\n",
              "      <td>200.980348</td>\n",
              "      <td>100.114311</td>\n",
              "      <td>17.083540</td>\n",
              "      <td>200.872037</td>\n",
              "      <td>100.107711</td>\n",
              "      <td>9.039325</td>\n",
              "      <td>10.237294</td>\n",
              "      <td>4.479448</td>\n",
              "      <td>2.764581</td>\n",
              "      <td>1.562856</td>\n",
              "    </tr>\n",
              "    <tr>\n",
              "      <th>std</th>\n",
              "      <td>39.822106</td>\n",
              "      <td>42.371290</td>\n",
              "      <td>13.688365</td>\n",
              "      <td>54.467389</td>\n",
              "      <td>20.069084</td>\n",
              "      <td>9.259435</td>\n",
              "      <td>50.713844</td>\n",
              "      <td>19.922625</td>\n",
              "      <td>4.310668</td>\n",
              "      <td>50.573847</td>\n",
              "      <td>19.568609</td>\n",
              "      <td>2.275873</td>\n",
              "      <td>2.791840</td>\n",
              "      <td>2.461214</td>\n",
              "      <td>0.753773</td>\n",
              "      <td>1.315491</td>\n",
              "    </tr>\n",
              "    <tr>\n",
              "      <th>min</th>\n",
              "      <td>1.000000</td>\n",
              "      <td>408.000000</td>\n",
              "      <td>0.000000</td>\n",
              "      <td>0.000000</td>\n",
              "      <td>0.000000</td>\n",
              "      <td>0.000000</td>\n",
              "      <td>0.000000</td>\n",
              "      <td>0.000000</td>\n",
              "      <td>0.000000</td>\n",
              "      <td>23.200000</td>\n",
              "      <td>33.000000</td>\n",
              "      <td>1.040000</td>\n",
              "      <td>0.000000</td>\n",
              "      <td>0.000000</td>\n",
              "      <td>0.000000</td>\n",
              "      <td>0.000000</td>\n",
              "    </tr>\n",
              "    <tr>\n",
              "      <th>25%</th>\n",
              "      <td>74.000000</td>\n",
              "      <td>408.000000</td>\n",
              "      <td>0.000000</td>\n",
              "      <td>143.700000</td>\n",
              "      <td>87.000000</td>\n",
              "      <td>24.430000</td>\n",
              "      <td>166.600000</td>\n",
              "      <td>87.000000</td>\n",
              "      <td>14.160000</td>\n",
              "      <td>167.000000</td>\n",
              "      <td>87.000000</td>\n",
              "      <td>7.520000</td>\n",
              "      <td>8.500000</td>\n",
              "      <td>3.000000</td>\n",
              "      <td>2.300000</td>\n",
              "      <td>1.000000</td>\n",
              "    </tr>\n",
              "    <tr>\n",
              "      <th>50%</th>\n",
              "      <td>101.000000</td>\n",
              "      <td>415.000000</td>\n",
              "      <td>0.000000</td>\n",
              "      <td>179.400000</td>\n",
              "      <td>101.000000</td>\n",
              "      <td>30.500000</td>\n",
              "      <td>201.400000</td>\n",
              "      <td>100.000000</td>\n",
              "      <td>17.120000</td>\n",
              "      <td>201.200000</td>\n",
              "      <td>100.000000</td>\n",
              "      <td>9.050000</td>\n",
              "      <td>10.300000</td>\n",
              "      <td>4.000000</td>\n",
              "      <td>2.780000</td>\n",
              "      <td>1.000000</td>\n",
              "    </tr>\n",
              "    <tr>\n",
              "      <th>75%</th>\n",
              "      <td>127.000000</td>\n",
              "      <td>510.000000</td>\n",
              "      <td>20.000000</td>\n",
              "      <td>216.400000</td>\n",
              "      <td>114.000000</td>\n",
              "      <td>36.790000</td>\n",
              "      <td>235.300000</td>\n",
              "      <td>114.000000</td>\n",
              "      <td>20.000000</td>\n",
              "      <td>235.300000</td>\n",
              "      <td>113.000000</td>\n",
              "      <td>10.590000</td>\n",
              "      <td>12.100000</td>\n",
              "      <td>6.000000</td>\n",
              "      <td>3.270000</td>\n",
              "      <td>2.000000</td>\n",
              "    </tr>\n",
              "    <tr>\n",
              "      <th>max</th>\n",
              "      <td>243.000000</td>\n",
              "      <td>510.000000</td>\n",
              "      <td>51.000000</td>\n",
              "      <td>350.800000</td>\n",
              "      <td>165.000000</td>\n",
              "      <td>59.640000</td>\n",
              "      <td>363.700000</td>\n",
              "      <td>170.000000</td>\n",
              "      <td>30.910000</td>\n",
              "      <td>395.000000</td>\n",
              "      <td>175.000000</td>\n",
              "      <td>17.770000</td>\n",
              "      <td>20.000000</td>\n",
              "      <td>20.000000</td>\n",
              "      <td>5.400000</td>\n",
              "      <td>9.000000</td>\n",
              "    </tr>\n",
              "  </tbody>\n",
              "</table>\n",
              "</div>\n",
              "      <button class=\"colab-df-convert\" onclick=\"convertToInteractive('df-380aabb3-218c-41e1-a3c2-33e5adc3adf2')\"\n",
              "              title=\"Convert this dataframe to an interactive table.\"\n",
              "              style=\"display:none;\">\n",
              "        \n",
              "  <svg xmlns=\"http://www.w3.org/2000/svg\" height=\"24px\"viewBox=\"0 0 24 24\"\n",
              "       width=\"24px\">\n",
              "    <path d=\"M0 0h24v24H0V0z\" fill=\"none\"/>\n",
              "    <path d=\"M18.56 5.44l.94 2.06.94-2.06 2.06-.94-2.06-.94-.94-2.06-.94 2.06-2.06.94zm-11 1L8.5 8.5l.94-2.06 2.06-.94-2.06-.94L8.5 2.5l-.94 2.06-2.06.94zm10 10l.94 2.06.94-2.06 2.06-.94-2.06-.94-.94-2.06-.94 2.06-2.06.94z\"/><path d=\"M17.41 7.96l-1.37-1.37c-.4-.4-.92-.59-1.43-.59-.52 0-1.04.2-1.43.59L10.3 9.45l-7.72 7.72c-.78.78-.78 2.05 0 2.83L4 21.41c.39.39.9.59 1.41.59.51 0 1.02-.2 1.41-.59l7.78-7.78 2.81-2.81c.8-.78.8-2.07 0-2.86zM5.41 20L4 18.59l7.72-7.72 1.47 1.35L5.41 20z\"/>\n",
              "  </svg>\n",
              "      </button>\n",
              "      \n",
              "  <style>\n",
              "    .colab-df-container {\n",
              "      display:flex;\n",
              "      flex-wrap:wrap;\n",
              "      gap: 12px;\n",
              "    }\n",
              "\n",
              "    .colab-df-convert {\n",
              "      background-color: #E8F0FE;\n",
              "      border: none;\n",
              "      border-radius: 50%;\n",
              "      cursor: pointer;\n",
              "      display: none;\n",
              "      fill: #1967D2;\n",
              "      height: 32px;\n",
              "      padding: 0 0 0 0;\n",
              "      width: 32px;\n",
              "    }\n",
              "\n",
              "    .colab-df-convert:hover {\n",
              "      background-color: #E2EBFA;\n",
              "      box-shadow: 0px 1px 2px rgba(60, 64, 67, 0.3), 0px 1px 3px 1px rgba(60, 64, 67, 0.15);\n",
              "      fill: #174EA6;\n",
              "    }\n",
              "\n",
              "    [theme=dark] .colab-df-convert {\n",
              "      background-color: #3B4455;\n",
              "      fill: #D2E3FC;\n",
              "    }\n",
              "\n",
              "    [theme=dark] .colab-df-convert:hover {\n",
              "      background-color: #434B5C;\n",
              "      box-shadow: 0px 1px 3px 1px rgba(0, 0, 0, 0.15);\n",
              "      filter: drop-shadow(0px 1px 2px rgba(0, 0, 0, 0.3));\n",
              "      fill: #FFFFFF;\n",
              "    }\n",
              "  </style>\n",
              "\n",
              "      <script>\n",
              "        const buttonEl =\n",
              "          document.querySelector('#df-380aabb3-218c-41e1-a3c2-33e5adc3adf2 button.colab-df-convert');\n",
              "        buttonEl.style.display =\n",
              "          google.colab.kernel.accessAllowed ? 'block' : 'none';\n",
              "\n",
              "        async function convertToInteractive(key) {\n",
              "          const element = document.querySelector('#df-380aabb3-218c-41e1-a3c2-33e5adc3adf2');\n",
              "          const dataTable =\n",
              "            await google.colab.kernel.invokeFunction('convertToInteractive',\n",
              "                                                     [key], {});\n",
              "          if (!dataTable) return;\n",
              "\n",
              "          const docLinkHtml = 'Like what you see? Visit the ' +\n",
              "            '<a target=\"_blank\" href=https://colab.research.google.com/notebooks/data_table.ipynb>data table notebook</a>'\n",
              "            + ' to learn more about interactive tables.';\n",
              "          element.innerHTML = '';\n",
              "          dataTable['output_type'] = 'display_data';\n",
              "          await google.colab.output.renderOutput(dataTable, element);\n",
              "          const docLink = document.createElement('div');\n",
              "          docLink.innerHTML = docLinkHtml;\n",
              "          element.appendChild(docLink);\n",
              "        }\n",
              "      </script>\n",
              "    </div>\n",
              "  </div>\n",
              "  "
            ]
          },
          "metadata": {},
          "execution_count": 11
        }
      ]
    },
    {
      "cell_type": "markdown",
      "source": [
        "### Variables Description"
      ],
      "metadata": {
        "id": "PBTbrJXOngz2"
      }
    },
    {
      "cell_type": "markdown",
      "source": [
        "there are 32 diffrent variables each of different type\n",
        "and the descriptive summary for numeric columns"
      ],
      "metadata": {
        "id": "aJV4KIxSnxay"
      }
    },
    {
      "cell_type": "markdown",
      "source": [
        "### Check Unique Values for each variable."
      ],
      "metadata": {
        "id": "u3PMJOP6ngxN"
      }
    },
    {
      "cell_type": "code",
      "source": [
        "for i in df.columns:\n",
        "  a=df[i].unique()\n",
        "  print(f'{i}={a}')"
      ],
      "metadata": {
        "colab": {
          "base_uri": "https://localhost:8080/"
        },
        "id": "O-OWvfFuAyaN",
        "outputId": "d8ad281d-21e7-4178-ec72-fb4056113c09"
      },
      "execution_count": null,
      "outputs": [
        {
          "output_type": "stream",
          "name": "stdout",
          "text": [
            "State=['KS' 'OH' 'NJ' 'OK' 'AL' 'MA' 'MO' 'LA' 'WV' 'IN' 'RI' 'IA' 'MT' 'NY'\n",
            " 'ID' 'VT' 'VA' 'TX' 'FL' 'CO' 'AZ' 'SC' 'NE' 'WY' 'HI' 'IL' 'NH' 'GA'\n",
            " 'AK' 'MD' 'AR' 'WI' 'OR' 'MI' 'DE' 'UT' 'CA' 'MN' 'SD' 'NC' 'WA' 'NM'\n",
            " 'NV' 'DC' 'KY' 'ME' 'MS' 'TN' 'PA' 'CT' 'ND']\n",
            "Account length=[128 107 137  84  75 118 121 147 117 141  65  74 168  95  62 161  85  93\n",
            "  76  73  77 130 111 132 174  57  54  20  49 142 172  12  72  36  78 136\n",
            " 149  98 135  34 160  64  59 119  97  52  60  10  96  87  81  68 125 116\n",
            "  38  40  43 113 126 150 138 162  90  50  82 144  46  70  55 106  94 155\n",
            "  80 104  99 120 108 122 157 103  63 112  41 193  61  92 131 163  91 127\n",
            " 110 140  83 145  56 151 139   6 115 146 185 148  32  25 179  67  19 170\n",
            " 164  51 208  53 105  66  86  35  88 123  45 100 215  22  33 114  24 101\n",
            " 143  48  71 167  89 199 166 158 196 209  16  39 173 129  44  79  31 124\n",
            "  37 159 194 154  21 133 224  58  11 109 102 165  18  30 176  47 190 152\n",
            "  26  69 186 171  28 153 169  13  27   3  42 189 156 134 243  23   1 205\n",
            " 200   5   9 178 181 182 217 177 210  29 180   2  17   7 212 232 192 195\n",
            " 197 225 184 191 201  15 183 202   8 175   4 188 204 221]\n",
            "Area code=[415 408 510]\n",
            "International plan=['No' 'Yes']\n",
            "Voice mail plan=['Yes' 'No']\n",
            "Number vmail messages=[25 26  0 24 37 27 33 39 30 41 28 34 46 29 35 21 32 42 36 22 23 43 31 38\n",
            " 40 48 18 17 45 16 20 14 19 51 15 11 12 47  8 44 49  4 10 13 50  9]\n",
            "Total day minutes=[265.1 161.6 243.4 ... 321.1 231.1 180.8]\n",
            "Total day calls=[110 123 114  71 113  98  88  79  97  84 137 127  96  70  67 139  66  90\n",
            " 117  89 112 103  86  76 115  73 109  95 105 121 118  94  80 128  64 106\n",
            " 102  85  82  77 120 133 135 108  57  83 129  91  92  74  93 101 146  72\n",
            "  99 104 125  61 100  87 131  65 124 119  52  68 107  47 116 151 126 122\n",
            " 111 145  78 136 140 148  81  55  69 158 134 130  63  53  75 141 163  59\n",
            " 132 138  54  58  62 144 143 147  36  40 150  56  51 165  30  48  60  42\n",
            "   0  45 160 149 152 142 156  35  49 157  44]\n",
            "Total day charge=[45.07 27.47 41.38 ... 54.59 39.29 30.74]\n",
            "Total eve minutes=[197.4 195.5 121.2 ... 153.4 288.8 265.9]\n",
            "Total eve calls=[ 99 103 110  88 122 101 108  94  80 111  83 148  71  75  76  97  90  65\n",
            "  93 121 102  72 112 100  84 109  63 107 115 119 116  92  85  98 118  74\n",
            " 117  58  96  66  67  62  77 164 126 142  64 104  79  95  86 105  81 113\n",
            " 106  59  48  82  87 123 114 140 128  60  78 125  91  46 138 129  89 133\n",
            " 136  57 135 139  51  70 151 137 134  73 152 168  68 120  69 127 132 143\n",
            "  61 124  42  54 131  52 149  56  37 130  49 146 147  55  12  50 157 155\n",
            "  45 144  36 156  53 141  44 153 154 150  43   0 145 159 170]\n",
            "Total eve charge=[16.78 16.62 10.3  ... 13.04 24.55 22.6 ]\n",
            "Total night minutes=[244.7 254.4 162.6 ... 280.9 120.1 279.1]\n",
            "Total night calls=[ 91 103 104  89 121 118  96  90  97 111  94 128 115  99  75 108  74 133\n",
            "  64  78 105  68 102 148  98 116  71 109 107 135  92  86 127  79  87 129\n",
            "  57  77  95  54 106  53  67 139  60 100  61  73 113  76 119  88  84  62\n",
            " 137  72 142 114 126 122  81 123 117  82  80 120 130 134  59 112 132 110\n",
            " 101 150  69 131  83  93 124 136 125  66 143  58  55  85  56  70  46  42\n",
            " 152  44 145  50 153  49 175  63 138 154 140 141 146  65  51 151 158 155\n",
            " 157 147 144 149 166  52  33 156  38  36  48 164]\n",
            "Total night charge=[11.01 11.45  7.32  8.86  8.41  9.18  9.57  9.53  9.71 14.69  9.4   8.82\n",
            "  6.35  8.65  9.14  7.23  4.02  5.83  7.46  8.68  9.43  8.18  8.53 10.67\n",
            " 11.28  8.22  4.59  8.17  8.04 11.27 11.08 13.2  12.61  9.61  6.88  5.82\n",
            " 10.25  4.58  8.47  8.45  5.5  14.02  8.03 11.94  7.34  6.06 10.9   6.44\n",
            "  3.18 10.66 11.21 12.73 10.28 12.16  6.34  8.15  5.84  8.52  7.5   7.48\n",
            "  6.21 11.95  7.15  9.63  7.1   6.91  6.69 13.29 11.46  7.76  6.86  8.16\n",
            " 12.15  7.79  7.99 10.29 10.08 12.53  7.91 10.02  8.61 14.54  8.21  9.09\n",
            "  4.93 11.39 11.88  5.75  7.83  8.59  7.52 12.38  7.21  5.81  8.1  11.04\n",
            " 11.19  8.55  8.42  9.76  9.87 10.86  5.36 10.03 11.15  9.51  6.22  2.59\n",
            "  7.65  6.45  9.    6.4   9.94  5.08 10.23 11.36  6.97 10.16  7.88 11.91\n",
            "  6.61 11.55 11.76  9.27  9.29 11.12 10.69  8.8  11.85  7.14  8.71 11.42\n",
            "  4.94  9.02 11.22  4.97  9.15  5.45  7.27 12.91  7.75 13.46  6.32 12.13\n",
            " 11.97  6.93 11.66  7.42  6.19 11.41 10.33 10.65 11.92  4.77  4.38  7.41\n",
            " 12.1   7.69  8.78  9.36  9.05 12.7   6.16  6.05 10.85  8.93  3.48 10.4\n",
            "  5.05 10.71  9.37  6.75  8.12 11.77 11.49 11.06 11.25 11.03 10.82  8.91\n",
            "  8.57  8.09 10.05 11.7  10.17  8.74  5.51 11.11  3.29 10.13  6.8   8.49\n",
            "  9.55 11.02  9.91  7.84 10.62  9.97  3.44  7.35  9.79  8.89  8.14  6.94\n",
            " 10.49 10.57 10.2   6.29  8.79 10.04 12.41 15.97  9.1  11.78 12.75 11.07\n",
            " 12.56  8.63  8.02 10.42  8.7   9.98  7.62  8.33  6.59 13.12 10.46  6.63\n",
            "  8.32  9.04  9.28 10.76  9.64 11.44  6.48 10.81 12.66 11.34  8.75 13.05\n",
            " 11.48 14.04 13.47  5.63  6.6   9.72 11.68  6.41  9.32 12.95 13.37  9.62\n",
            "  6.03  8.25  8.26 11.96  9.9   9.23  5.58  7.22  6.64 12.29 12.93 11.32\n",
            "  6.85  8.88  7.03  8.48  3.59  5.86  6.23  7.61  7.66 13.63  7.9  11.82\n",
            "  7.47  6.08  8.4   5.74 10.94 10.35 10.68  4.34  8.73  5.14  8.24  9.99\n",
            " 13.93  8.64 11.43  5.79  9.2  10.14 12.11  7.53 12.46  8.46  8.95  9.84\n",
            " 10.8  11.23 10.15  9.21 14.46  6.67 12.83  9.66  9.59 10.48  8.36  4.84\n",
            " 10.54  8.39  7.43  9.06  8.94 11.13  8.87  8.5   7.6  10.73  9.56 10.77\n",
            "  7.73  3.47 11.86  8.11  9.78  9.42  9.65  7.    7.39  9.88  6.56  5.92\n",
            "  6.95 15.71  8.06  4.86  7.8   8.58 10.06  5.21  6.92  6.15 13.49  9.38\n",
            " 12.62 12.26  8.19 11.65 11.62 10.83  7.92  7.33 13.01 13.26 12.22 11.58\n",
            "  5.97 10.99  8.38  9.17  8.08  5.71  3.41 12.63 11.79 12.96  7.64  6.58\n",
            " 10.84 10.22  6.52  5.55  7.63  5.11  5.89 10.78  3.05 11.89  8.97 10.44\n",
            " 10.5   9.35  5.66 11.09  9.83  5.44 10.11  6.39 11.93  8.62 12.06  6.02\n",
            "  8.85  5.25  8.66  6.73 10.21 11.59 13.87  7.77 10.39  5.54  6.62 13.33\n",
            "  6.24 12.59  6.3   6.79  8.28  9.03  8.07  5.52 12.14 10.59  7.54  7.67\n",
            "  5.47  8.81  8.51 13.45  8.77  6.43 12.01 12.08  7.07  6.51  6.84  9.48\n",
            " 13.78 11.54 11.67  8.13 10.79  7.13  4.72  4.64  8.96 13.03  6.07  3.51\n",
            "  6.83  6.12  9.31  9.58  4.68  5.32  9.26 11.52  9.11 10.55 11.47  9.3\n",
            " 13.82  8.44  5.77 10.96 11.74  8.9  10.47  7.85 10.92  4.74  9.74 10.43\n",
            "  9.96 10.18  9.54  7.89 12.36  8.54 10.07  9.46  7.3  11.16  9.16 10.19\n",
            "  5.99 10.88  5.8   7.19  4.55  8.31  8.01 14.43  8.3  14.3   6.53  8.2\n",
            " 11.31 13.    6.42  4.24  7.44  7.51 13.1   9.49  6.14  8.76  6.65 10.56\n",
            "  6.72  8.29 12.09  5.39  2.96  7.59  7.24  4.28  9.7   8.83 13.3  11.37\n",
            "  9.33  5.01  3.26 11.71  8.43  9.68 15.56  9.8   3.61  6.96 11.61 12.81\n",
            " 10.87 13.84  5.03  5.17  2.03 10.34  9.34  7.95 10.09  9.95  7.11  9.22\n",
            "  6.13 11.05  9.89  9.39 14.06 10.26 13.31 15.43 16.39  6.27 10.64 11.5\n",
            " 12.48  8.27 13.53 10.36 12.24  8.69 10.52  9.07 11.51  9.25  8.72  6.78\n",
            "  8.6  11.84  5.78  5.85 12.3   5.76 12.07  9.6   8.84 12.39 10.1   9.73\n",
            "  2.85  6.66  2.45  5.28 11.73 10.75  7.74  6.76  6.    7.58 13.69  7.93\n",
            "  7.68  9.75  4.96  5.49 11.83  7.18  9.19  7.7   7.25 10.74  4.27 13.8\n",
            "  9.12  4.75  7.78 11.63  7.55  2.25  9.45  9.86  7.71  4.95  7.4  11.17\n",
            " 11.33  6.82 13.7   1.97 10.89 12.77 10.31  5.23  5.27  9.41  6.09 10.61\n",
            "  7.29  4.23  7.57  3.67 12.69 14.5   5.95  7.87  5.96  5.94 12.23  4.9\n",
            " 12.33  6.89  9.67 12.68 12.87  3.7   6.04 13.13 15.74 11.87  4.7   4.67\n",
            "  7.05  5.42  4.09  5.73  9.47  8.05  6.87  3.71 15.86  7.49 11.69  6.46\n",
            " 10.45 12.9   5.41 11.26  1.04  6.49  6.37 12.21  6.77 12.65  7.86  9.44\n",
            "  4.3   7.38  5.02 10.63  2.86 17.19  8.67  8.37  6.9  10.93 10.38  7.36\n",
            " 10.27 10.95  6.11  4.45 11.9  15.01 12.84  7.45  6.98 11.72  7.56 11.38\n",
            " 10.    4.42  9.81  5.56  6.01 10.12 12.4  16.99  5.68 11.64  3.78  7.82\n",
            "  9.85 13.74 12.71 10.98 10.01  9.52  7.31  8.35 11.35  9.5  14.03  3.2\n",
            "  7.72 13.22 10.7   8.99 10.6  13.02  9.77 12.58 12.35 12.2  11.4  13.91\n",
            "  3.57 14.65 12.28  5.13 10.72 12.86 14.    7.12 12.17  4.71  6.28  8.\n",
            "  7.01  5.91  5.2  12.   12.02 12.88  7.28  5.4  12.04  5.24 10.3  10.41\n",
            " 13.41 12.72  9.08  7.08 13.5   5.35 12.45  5.3  10.32  5.15 12.67  5.22\n",
            "  5.57  3.94  4.41 13.27 10.24  4.25 12.89  5.72 12.5  11.29  3.25 11.53\n",
            "  9.82  7.26  4.1  10.37  4.98  6.74 12.52 14.56  8.34  3.82  3.86 13.97\n",
            " 11.57  6.5  13.58 14.32 13.75 11.14 14.18  9.13  4.46  4.83  9.69 14.13\n",
            "  7.16  7.98 13.66 14.78 11.2   9.93 11.    5.29  9.92  4.29 11.1  10.51\n",
            " 12.49  4.04 12.94  7.09  6.71  7.94  5.31  5.98  7.2  14.82 13.21 12.32\n",
            " 10.58  4.92  6.2   4.47 11.98  6.18  7.81  4.54  5.37  7.17  5.33 14.1\n",
            "  5.7  12.18  8.98  5.1  14.67 13.95 16.55 11.18  4.44  4.73  2.55  6.31\n",
            "  2.43  9.24  7.37 13.42 12.42 11.8  14.45  2.89 13.23 12.6  13.18 12.19\n",
            " 14.81  6.55 11.3  12.27 13.98  8.23 15.49  6.47 13.48 13.59 13.25 17.77\n",
            " 13.9   3.97 11.56 14.08 13.6   6.26  4.61 12.76 15.76  6.38  3.6  12.8\n",
            "  5.9   7.97  5.   10.97  5.88 12.34 12.03 14.97 15.06 12.85  6.54 11.24\n",
            " 12.64  7.06  5.38 13.14  3.99  3.32  4.51  4.12  3.93  2.4  11.75  4.03\n",
            " 15.85  6.81 14.25 14.09 16.42  6.7  12.74  2.76 12.12  6.99  6.68 11.81\n",
            "  7.96  5.06 13.16  2.13 13.17  5.12  5.65 12.37 10.53]\n",
            "Total intl minutes=[10.  13.7 12.2  6.6 10.1  6.3  7.5  7.1  8.7 11.2 12.7  9.1 12.3 13.1\n",
            "  5.4 13.8  8.1 13.  10.6  5.7  9.5  7.7 10.3 15.5 14.7 11.1 14.2 12.6\n",
            " 11.8  8.3 14.5 10.5  9.4 14.6  9.2  3.5  8.5 13.2  7.4  8.8 11.   7.8\n",
            "  6.8 11.4  9.3  9.7 10.2  8.   5.8 12.1 12.  11.6  8.2  6.2  7.3  6.1\n",
            " 11.7 15.   9.8 12.4  8.6 10.9 13.9  8.9  7.9  5.3  4.4 12.5 11.3  9.\n",
            "  9.6 13.3 20.   7.2  6.4 14.1 14.3  6.9 11.5 15.8 12.8 16.2  0.  11.9\n",
            "  9.9  8.4 10.8 13.4 10.7 17.6  4.7  2.7 13.5 12.9 14.4 10.4  6.7 15.4\n",
            "  4.5  6.5 15.6  5.9 18.9  7.6  5.   7.  14.  18.  16.  14.8  3.7  2.\n",
            "  4.8 15.3  6.  13.6 17.2 17.5  5.6 18.2  3.6 16.5  4.6  5.1  4.1 16.3\n",
            " 14.9 16.4 16.7  1.3 15.2 15.1 15.9  5.5 16.1  4.  16.9  5.2  4.2 15.7\n",
            " 17.   3.9  3.8  2.2 17.1  4.9 17.9 17.3 18.4 17.8  4.3  2.9  3.1  3.3\n",
            "  2.6  3.4  1.1 18.3 16.6  2.1  2.4  2.5]\n",
            "Total intl calls=[ 3  5  7  6  4  2  9 19  1 10 15  8 11  0 12 13 18 14 16 20 17]\n",
            "Total intl charge=[2.7  3.7  3.29 1.78 2.73 1.7  2.03 1.92 2.35 3.02 3.43 2.46 3.32 3.54\n",
            " 1.46 3.73 2.19 3.51 2.86 1.54 2.57 2.08 2.78 4.19 3.97 3.   3.83 3.4\n",
            " 3.19 2.24 3.92 2.84 2.54 3.94 2.48 0.95 2.3  3.56 2.   2.38 2.97 2.11\n",
            " 1.84 3.08 2.51 2.62 2.75 2.16 1.57 3.27 3.24 3.13 2.21 1.67 1.97 1.65\n",
            " 3.16 4.05 2.65 3.35 2.32 2.94 3.75 2.4  2.13 1.43 1.19 3.38 3.05 2.43\n",
            " 2.59 3.59 5.4  1.94 1.73 3.81 3.86 1.86 3.11 4.27 3.46 4.37 0.   3.21\n",
            " 2.67 2.27 2.92 3.62 2.89 4.75 1.27 0.73 3.65 3.48 3.89 2.81 1.81 4.16\n",
            " 1.22 1.76 4.21 1.59 5.1  2.05 1.35 1.89 3.78 4.86 4.32 4.   1.   0.54\n",
            " 1.3  4.13 1.62 3.67 4.64 4.73 1.51 4.91 0.97 4.46 1.24 1.38 1.11 4.4\n",
            " 4.02 4.43 4.51 0.35 4.1  4.08 4.29 1.49 4.35 1.08 4.56 1.4  1.13 4.24\n",
            " 4.59 1.05 1.03 0.59 4.62 1.32 4.83 4.67 4.97 4.81 1.16 0.78 0.84 0.89\n",
            " 0.7  0.92 0.3  4.94 4.48 0.57 0.65 0.68]\n",
            "Customer service calls=[1 0 2 3 4 5 7 9 6 8]\n",
            "Churn=[False  True]\n"
          ]
        }
      ]
    },
    {
      "cell_type": "markdown",
      "source": [
        "## 3. ***Data Wrangling***"
      ],
      "metadata": {
        "id": "dauF4eBmngu3"
      }
    },
    {
      "cell_type": "markdown",
      "source": [
        "### Data Wrangling Code"
      ],
      "metadata": {
        "id": "bKJF3rekwFvQ"
      }
    },
    {
      "cell_type": "code",
      "source": [
        "# Write your code to make your dataset analysis ready.\n",
        "df.drop_duplicates(inplace=True)\n",
        "df['children']=df['children'].astype(int)\n",
        "df['agent']=df['agent'].astype(int)\n",
        "df['company']=df['company'].astype(int)\n",
        "df['adr']=df['adr'].astype(int)\n",
        "df['total_stay'] = df['stays_in_weekend_nights']+df['stays_in_week_nights']\n",
        "df['total_people'] = df['adults']+df['children']+df['babies']\n",
        "\n",
        "\n"
      ],
      "metadata": {
        "id": "wk-9a2fpoLcV"
      },
      "execution_count": null,
      "outputs": []
    },
    {
      "cell_type": "code",
      "source": [
        "df.drop(df.index[(df[\"adr\"] <= 0)],axis=0,inplace=True)"
      ],
      "metadata": {
        "id": "w0bS-1I0HtfH"
      },
      "execution_count": null,
      "outputs": []
    },
    {
      "cell_type": "markdown",
      "source": [
        "### What all manipulations have you done and insights you found?"
      ],
      "metadata": {
        "id": "MSa1f5Uengrz"
      }
    },
    {
      "cell_type": "markdown",
      "source": [
        "i have dropped duplicates from data set\n",
        "children agent company dtype is float  will convert to int using astype\n",
        "for total people stayed in the hotel i added adults children and babies\n",
        "to get total days of stay i had added weekday nights and weekend nights\n",
        "in adr column the min is in negative so drop  from particular column"
      ],
      "metadata": {
        "id": "LbyXE7I1olp8"
      }
    },
    {
      "cell_type": "code",
      "source": [
        "df1=df.copy()"
      ],
      "metadata": {
        "id": "RnNYLvGhJQry"
      },
      "execution_count": null,
      "outputs": []
    },
    {
      "cell_type": "markdown",
      "source": [
        "## ***4. Data Vizualization, Storytelling & Experimenting with charts : Understand the relationships between variables***"
      ],
      "metadata": {
        "id": "GF8Ens_Soomf"
      }
    },
    {
      "cell_type": "markdown",
      "source": [
        "#### Chart - 1"
      ],
      "metadata": {
        "id": "0wOQAZs5pc--"
      }
    },
    {
      "cell_type": "code",
      "source": [
        "sns.set(rc={'figure.figsize':(11.7,8.27)})"
      ],
      "metadata": {
        "id": "l0wlE8sQaoI-"
      },
      "execution_count": null,
      "outputs": []
    },
    {
      "cell_type": "code",
      "source": [
        "# Chart - 1 visualization code\n",
        "hotel=df1.hotel.value_counts().reset_index()\n",
        "hotel.rename(columns = {'index':'hotel_type','hotel':'number_of_bookings'}, inplace = True)\n",
        "\n",
        "sns.barplot(x = hotel['hotel_type'], y = hotel['number_of_bookings'])\n",
        "plt.title('No.of_bookings_in_different_type_of_hotels')\n"
      ],
      "metadata": {
        "id": "7v_ESjsspbW7",
        "colab": {
          "base_uri": "https://localhost:8080/"
        },
        "outputId": "1bd4b0c2-7aa9-4162-a3ab-159c2ff9d26a"
      },
      "execution_count": null,
      "outputs": [
        {
          "output_type": "execute_result",
          "data": {
            "text/plain": [
              "Text(0.5, 1.0, 'No.of_bookings_in_different_type_of_hotels')"
            ]
          },
          "metadata": {},
          "execution_count": 17
        },
        {
          "output_type": "display_data",
          "data": {
            "text/plain": [
              "<Figure size 842.4x595.44 with 1 Axes>"
            ],
            "image/png": "[encoded data removed]"
          },
          "metadata": {}
        }
      ]
    },
    {
      "cell_type": "markdown",
      "source": [
        "##### 1. Why did you pick the specific chart?"
      ],
      "metadata": {
        "id": "K5QZ13OEpz2H"
      }
    },
    {
      "cell_type": "markdown",
      "source": [
        "i picked these chart to distinguish between the no of bookings and the hotel type"
      ],
      "metadata": {
        "id": "XESiWehPqBRc"
      }
    },
    {
      "cell_type": "markdown",
      "source": [
        "##### 2. What is/are the insight(s) found from the chart?"
      ],
      "metadata": {
        "id": "lQ7QKXXCp7Bj"
      }
    },
    {
      "cell_type": "markdown",
      "source": [
        "by these i can say that city hotels are having high percent of booking than resort hotel"
      ],
      "metadata": {
        "id": "C_j1G7yiqdRP"
      }
    },
    {
      "cell_type": "markdown",
      "source": [
        "##### 3. Will the gained insights help creating a positive business impact?\n",
        "Are there any insights that lead to negative growth? Justify with specific reason."
      ],
      "metadata": {
        "id": "448CDAPjqfQr"
      }
    },
    {
      "cell_type": "markdown",
      "source": [
        "these insight will helps the owners to build more city type hotels"
      ],
      "metadata": {
        "id": "3cspy4FjqxJW"
      }
    },
    {
      "cell_type": "markdown",
      "source": [
        "#### Chart - 2"
      ],
      "metadata": {
        "id": "KSlN3yHqYklG"
      }
    },
    {
      "cell_type": "code",
      "source": [
        "# Chart - 2 visualization code\n",
        "agent=df1['agent'].value_counts()[:5].reset_index()\n",
        "agent"
      ],
      "metadata": {
        "id": "R4YgtaqtYklH",
        "colab": {
          "base_uri": "https://localhost:8080/"
        },
        "outputId": "89e7e7e6-887f-4e6f-ac55-e1bc36f99ce3"
      },
      "execution_count": null,
      "outputs": [
        {
          "output_type": "execute_result",
          "data": {
            "text/plain": [
              "   index  agent\n",
              "0      9  28656\n",
              "1    240  12900\n",
              "2      0  11307\n",
              "3     14   3330\n",
              "4      7   3280"
            ],
            "text/html": [
              "\n",
              "  <div id=\"df-6176850c-f093-48ea-9f48-271dcbcf8434\">\n",
              "    <div class=\"colab-df-container\">\n",
              "      <div>\n",
              "<style scoped>\n",
              "    .dataframe tbody tr th:only-of-type {\n",
              "        vertical-align: middle;\n",
              "    }\n",
              "\n",
              "    .dataframe tbody tr th {\n",
              "        vertical-align: top;\n",
              "    }\n",
              "\n",
              "    .dataframe thead th {\n",
              "        text-align: right;\n",
              "    }\n",
              "</style>\n",
              "<table border=\"1\" class=\"dataframe\">\n",
              "  <thead>\n",
              "    <tr style=\"text-align: right;\">\n",
              "      <th></th>\n",
              "      <th>index</th>\n",
              "      <th>agent</th>\n",
              "    </tr>\n",
              "  </thead>\n",
              "  <tbody>\n",
              "    <tr>\n",
              "      <th>0</th>\n",
              "      <td>9</td>\n",
              "      <td>28656</td>\n",
              "    </tr>\n",
              "    <tr>\n",
              "      <th>1</th>\n",
              "      <td>240</td>\n",
              "      <td>12900</td>\n",
              "    </tr>\n",
              "    <tr>\n",
              "      <th>2</th>\n",
              "      <td>0</td>\n",
              "      <td>11307</td>\n",
              "    </tr>\n",
              "    <tr>\n",
              "      <th>3</th>\n",
              "      <td>14</td>\n",
              "      <td>3330</td>\n",
              "    </tr>\n",
              "    <tr>\n",
              "      <th>4</th>\n",
              "      <td>7</td>\n",
              "      <td>3280</td>\n",
              "    </tr>\n",
              "  </tbody>\n",
              "</table>\n",
              "</div>\n",
              "      <button class=\"colab-df-convert\" onclick=\"convertToInteractive('df-6176850c-f093-48ea-9f48-271dcbcf8434')\"\n",
              "              title=\"Convert this dataframe to an interactive table.\"\n",
              "              style=\"display:none;\">\n",
              "        \n",
              "  <svg xmlns=\"http://www.w3.org/2000/svg\" height=\"24px\"viewBox=\"0 0 24 24\"\n",
              "       width=\"24px\">\n",
              "    <path d=\"M0 0h24v24H0V0z\" fill=\"none\"/>\n",
              "    <path d=\"M18.56 5.44l.94 2.06.94-2.06 2.06-.94-2.06-.94-.94-2.06-.94 2.06-2.06.94zm-11 1L8.5 8.5l.94-2.06 2.06-.94-2.06-.94L8.5 2.5l-.94 2.06-2.06.94zm10 10l.94 2.06.94-2.06 2.06-.94-2.06-.94-.94-2.06-.94 2.06-2.06.94z\"/><path d=\"M17.41 7.96l-1.37-1.37c-.4-.4-.92-.59-1.43-.59-.52 0-1.04.2-1.43.59L10.3 9.45l-7.72 7.72c-.78.78-.78 2.05 0 2.83L4 21.41c.39.39.9.59 1.41.59.51 0 1.02-.2 1.41-.59l7.78-7.78 2.81-2.81c.8-.78.8-2.07 0-2.86zM5.41 20L4 18.59l7.72-7.72 1.47 1.35L5.41 20z\"/>\n",
              "  </svg>\n",
              "      </button>\n",
              "      \n",
              "  <style>\n",
              "    .colab-df-container {\n",
              "      display:flex;\n",
              "      flex-wrap:wrap;\n",
              "      gap: 12px;\n",
              "    }\n",
              "\n",
              "    .colab-df-convert {\n",
              "      background-color: #E8F0FE;\n",
              "      border: none;\n",
              "      border-radius: 50%;\n",
              "      cursor: pointer;\n",
              "      display: none;\n",
              "      fill: #1967D2;\n",
              "      height: 32px;\n",
              "      padding: 0 0 0 0;\n",
              "      width: 32px;\n",
              "    }\n",
              "\n",
              "    .colab-df-convert:hover {\n",
              "      background-color: #E2EBFA;\n",
              "      box-shadow: 0px 1px 2px rgba(60, 64, 67, 0.3), 0px 1px 3px 1px rgba(60, 64, 67, 0.15);\n",
              "      fill: #174EA6;\n",
              "    }\n",
              "\n",
              "    [theme=dark] .colab-df-convert {\n",
              "      background-color: #3B4455;\n",
              "      fill: #D2E3FC;\n",
              "    }\n",
              "\n",
              "    [theme=dark] .colab-df-convert:hover {\n",
              "      background-color: #434B5C;\n",
              "      box-shadow: 0px 1px 3px 1px rgba(0, 0, 0, 0.15);\n",
              "      filter: drop-shadow(0px 1px 2px rgba(0, 0, 0, 0.3));\n",
              "      fill: #FFFFFF;\n",
              "    }\n",
              "  </style>\n",
              "\n",
              "      <script>\n",
              "        const buttonEl =\n",
              "          document.querySelector('#df-6176850c-f093-48ea-9f48-271dcbcf8434 button.colab-df-convert');\n",
              "        buttonEl.style.display =\n",
              "          google.colab.kernel.accessAllowed ? 'block' : 'none';\n",
              "\n",
              "        async function convertToInteractive(key) {\n",
              "          const element = document.querySelector('#df-6176850c-f093-48ea-9f48-271dcbcf8434');\n",
              "          const dataTable =\n",
              "            await google.colab.kernel.invokeFunction('convertToInteractive',\n",
              "                                                     [key], {});\n",
              "          if (!dataTable) return;\n",
              "\n",
              "          const docLinkHtml = 'Like what you see? Visit the ' +\n",
              "            '<a target=\"_blank\" href=https://colab.research.google.com/notebooks/data_table.ipynb>data table notebook</a>'\n",
              "            + ' to learn more about interactive tables.';\n",
              "          element.innerHTML = '';\n",
              "          dataTable['output_type'] = 'display_data';\n",
              "          await google.colab.output.renderOutput(dataTable, element);\n",
              "          const docLink = document.createElement('div');\n",
              "          docLink.innerHTML = docLinkHtml;\n",
              "          element.appendChild(docLink);\n",
              "        }\n",
              "      </script>\n",
              "    </div>\n",
              "  </div>\n",
              "  "
            ]
          },
          "metadata": {},
          "execution_count": 18
        }
      ]
    },
    {
      "cell_type": "code",
      "source": [
        "agent.rename(columns = {'index':'agent','agent':'count'}, inplace = True)\n",
        "sns.barplot(x = agent['agent'], y = agent['count'])"
      ],
      "metadata": {
        "colab": {
          "base_uri": "https://localhost:8080/"
        },
        "id": "LqJPx8zodYur",
        "outputId": "cce7b575-868d-4f5f-f650-b1244420c4a0"
      },
      "execution_count": null,
      "outputs": [
        {
          "output_type": "execute_result",
          "data": {
            "text/plain": [
              "<matplotlib.axes._subplots.AxesSubplot at 0x7efd714a1a00>"
            ]
          },
          "metadata": {},
          "execution_count": 19
        },
        {
          "output_type": "display_data",
          "data": {
            "text/plain": [
              "<Figure size 842.4x595.44 with 1 Axes>"
            ],
            "image/png": "[encoded data removed]"
          },
          "metadata": {}
        }
      ]
    },
    {
      "cell_type": "markdown",
      "source": [
        "##### 1. Why did you pick the specific chart?"
      ],
      "metadata": {
        "id": "t6dVpIINYklI"
      }
    },
    {
      "cell_type": "markdown",
      "source": [
        "i have chosen these type of chart to differntiate the agents in xlabel and the count on y"
      ],
      "metadata": {
        "id": "5aaW0BYyYklI"
      }
    },
    {
      "cell_type": "markdown",
      "source": [
        "##### 2. What is/are the insight(s) found from the chart?"
      ],
      "metadata": {
        "id": "ijmpgYnKYklI"
      }
    },
    {
      "cell_type": "markdown",
      "source": [
        "Agent no. 9 has made most no. of bookings."
      ],
      "metadata": {
        "id": "PSx9atu2YklI"
      }
    },
    {
      "cell_type": "markdown",
      "source": [
        "##### 3. Will the gained insights help creating a positive business impact?\n",
        "Are there any insights that lead to negative growth? Justify with specific reason."
      ],
      "metadata": {
        "id": "-JiQyfWJYklI"
      }
    },
    {
      "cell_type": "markdown",
      "source": [
        "Answer Here"
      ],
      "metadata": {
        "id": "BcBbebzrYklV"
      }
    },
    {
      "cell_type": "markdown",
      "source": [
        "#### Chart - 3"
      ],
      "metadata": {
        "id": "EM7whBJCYoAo"
      }
    },
    {
      "cell_type": "code",
      "source": [
        "# Chart - 3 visualization code\n",
        "grp_by_room = df1.groupby('assigned_room_type')\n",
        "hotel['Num_of_bookings'] = grp_by_room.size()\n",
        "\n",
        "sns.countplot( x = df1['assigned_room_type'])\n",
        "plt.title('highest room type booked')"
      ],
      "metadata": {
        "id": "t6GMdE67YoAp",
        "colab": {
          "base_uri": "https://localhost:8080/"
        },
        "outputId": "a2780122-f867-416c-f6b5-b0041f57db99"
      },
      "execution_count": null,
      "outputs": [
        {
          "output_type": "execute_result",
          "data": {
            "text/plain": [
              "Text(0.5, 1.0, 'highest room type booked')"
            ]
          },
          "metadata": {},
          "execution_count": 20
        },
        {
          "output_type": "display_data",
          "data": {
            "text/plain": [
              "<Figure size 842.4x595.44 with 1 Axes>"
            ],
            "image/png": "[encoded data removed]"
          },
          "metadata": {}
        }
      ]
    },
    {
      "cell_type": "markdown",
      "source": [
        "##### 1. Why did you pick the specific chart?"
      ],
      "metadata": {
        "id": "fge-S5ZAYoAp"
      }
    },
    {
      "cell_type": "markdown",
      "source": [
        "Answer Here."
      ],
      "metadata": {
        "id": "5dBItgRVYoAp"
      }
    },
    {
      "cell_type": "markdown",
      "source": [
        "##### 2. What is/are the insight(s) found from the chart?"
      ],
      "metadata": {
        "id": "85gYPyotYoAp"
      }
    },
    {
      "cell_type": "markdown",
      "source": [
        "from the plot i understood that many customers who visited the hotel mostly preffered to stay in room type A"
      ],
      "metadata": {
        "id": "4jstXR6OYoAp"
      }
    },
    {
      "cell_type": "markdown",
      "source": [
        "##### 3. Will the gained insights help creating a positive business impact?\n",
        "Are there any insights that lead to negative growth? Justify with specific reason."
      ],
      "metadata": {
        "id": "RoGjAbkUYoAp"
      }
    },
    {
      "cell_type": "markdown",
      "source": [
        "Answer Here"
      ],
      "metadata": {
        "id": "zfJ8IqMcYoAp"
      }
    },
    {
      "cell_type": "markdown",
      "source": [
        "#### Chart - 4"
      ],
      "metadata": {
        "id": "4Of9eVA-YrdM"
      }
    },
    {
      "cell_type": "code",
      "source": [
        "# Chart - 4 visualization code\n",
        "grp_by_room = df1\n",
        "hotel['Num_of_bookings'] = grp_by_room.size()\n",
        "sns.boxplot(df)"
      ],
      "metadata": {
        "id": "irlUoxc8YrdO",
        "colab": {
          "base_uri": "https://localhost:8080/"
        },
        "outputId": "c37d395a-5bd6-4626-a963-64c418d618b8"
      },
      "execution_count": null,
      "outputs": [
        {
          "output_type": "execute_result",
          "data": {
            "text/plain": [
              "<matplotlib.axes._subplots.AxesSubplot at 0x7efd70f3a430>"
            ]
          },
          "metadata": {},
          "execution_count": 21
        },
        {
          "output_type": "display_data",
          "data": {
            "text/plain": [
              "<Figure size 842.4x595.44 with 1 Axes>"
            ],
            "image/png": "[encoded data removed]"
          },
          "metadata": {}
        }
      ]
    },
    {
      "cell_type": "code",
      "source": [
        "# there was a outliner in adr dropping that\n",
        "df1.drop(df1[df1['adr'] > 5000].index, inplace = True)"
      ],
      "metadata": {
        "id": "hEvqiqbWgRdd"
      },
      "execution_count": null,
      "outputs": []
    },
    {
      "cell_type": "code",
      "source": [
        "grp_by_room = df1.groupby('assigned_room_type')\n",
        "hotel['Num_of_bookings'] = grp_by_room.size()\n",
        "sns.boxplot(x = df1['assigned_room_type'], y = df1['adr'])\n",
        "\n"
      ],
      "metadata": {
        "colab": {
          "base_uri": "https://localhost:8080/"
        },
        "id": "c4xJ1NWBgoBZ",
        "outputId": "f33c7700-d8f7-4cb1-8714-4a98ec3197dc"
      },
      "execution_count": null,
      "outputs": [
        {
          "output_type": "execute_result",
          "data": {
            "text/plain": [
              "<matplotlib.axes._subplots.AxesSubplot at 0x7efd70e4a430>"
            ]
          },
          "metadata": {},
          "execution_count": 23
        },
        {
          "output_type": "display_data",
          "data": {
            "text/plain": [
              "<Figure size 842.4x595.44 with 1 Axes>"
            ],
            "image/png": "[encoded data removed]"
          },
          "metadata": {}
        }
      ]
    },
    {
      "cell_type": "markdown",
      "source": [
        "##### 1. Why did you pick the specific chart?"
      ],
      "metadata": {
        "id": "iky9q4vBYrdO"
      }
    },
    {
      "cell_type": "markdown",
      "source": [
        "Answer Here."
      ],
      "metadata": {
        "id": "aJRCwT6DYrdO"
      }
    },
    {
      "cell_type": "markdown",
      "source": [
        "##### 2. What is/are the insight(s) found from the chart?"
      ],
      "metadata": {
        "id": "F6T5p64dYrdO"
      }
    },
    {
      "cell_type": "markdown",
      "source": [
        "to get a good average daily rate one can go with h type of rooms"
      ],
      "metadata": {
        "id": "Xx8WAJvtYrdO"
      }
    },
    {
      "cell_type": "markdown",
      "source": [
        "##### 3. Will the gained insights help creating a positive business impact?\n",
        "Are there any insights that lead to negative growth? Justify with specific reason."
      ],
      "metadata": {
        "id": "y-Ehk30pYrdP"
      }
    },
    {
      "cell_type": "markdown",
      "source": [
        "Answer Here"
      ],
      "metadata": {
        "id": "jLNxxz7MYrdP"
      }
    },
    {
      "cell_type": "markdown",
      "source": [
        "#### Chart - 5"
      ],
      "metadata": {
        "id": "bamQiAODYuh1"
      }
    },
    {
      "cell_type": "code",
      "source": [
        "# Chart - 5 visualization code\n",
        "sns.countplot(x = df1['meal'])\n"
      ],
      "metadata": {
        "id": "TIJwrbroYuh3",
        "colab": {
          "base_uri": "https://localhost:8080/"
        },
        "outputId": "68de9787-b88f-4736-ee50-de7ddc319932"
      },
      "execution_count": null,
      "outputs": [
        {
          "output_type": "execute_result",
          "data": {
            "text/plain": [
              "<matplotlib.axes._subplots.AxesSubplot at 0x7efd70d6ea90>"
            ]
          },
          "metadata": {},
          "execution_count": 24
        },
        {
          "output_type": "display_data",
          "data": {
            "text/plain": [
              "<Figure size 842.4x595.44 with 1 Axes>"
            ],
            "image/png": "[encoded data removed]"
          },
          "metadata": {}
        }
      ]
    },
    {
      "cell_type": "markdown",
      "source": [
        "##### 1. Why did you pick the specific chart?"
      ],
      "metadata": {
        "id": "QHF8YVU7Yuh3"
      }
    },
    {
      "cell_type": "markdown",
      "source": [
        "Answer Here."
      ],
      "metadata": {
        "id": "dcxuIMRPYuh3"
      }
    },
    {
      "cell_type": "markdown",
      "source": [
        "##### 2. What is/are the insight(s) found from the chart?"
      ],
      "metadata": {
        "id": "GwzvFGzlYuh3"
      }
    },
    {
      "cell_type": "markdown",
      "source": [
        "most people preffered to have BB type meal"
      ],
      "metadata": {
        "id": "uyqkiB8YYuh3"
      }
    },
    {
      "cell_type": "markdown",
      "source": [
        "##### 3. Will the gained insights help creating a positive business impact?\n",
        "Are there any insights that lead to negative growth? Justify with specific reason."
      ],
      "metadata": {
        "id": "qYpmQ266Yuh3"
      }
    },
    {
      "cell_type": "markdown",
      "source": [
        "Answer Here"
      ],
      "metadata": {
        "id": "_WtzZ_hCYuh4"
      }
    },
    {
      "cell_type": "markdown",
      "source": [
        "#### Chart - 6"
      ],
      "metadata": {
        "id": "OH-pJp9IphqM"
      }
    },
    {
      "cell_type": "code",
      "source": [
        "# Chart - 6 visualization code\n",
        "a = df1.groupby(\"hotel\")['is_canceled'].describe()\n",
        "\n",
        "sns.barplot(x=a.index, y=a[\"mean\"] * 100)"
      ],
      "metadata": {
        "id": "kuRf4wtuphqN",
        "colab": {
          "base_uri": "https://localhost:8080/"
        },
        "outputId": "1251c5c8-0674-485c-d8c8-611fb06501b1"
      },
      "execution_count": null,
      "outputs": [
        {
          "output_type": "execute_result",
          "data": {
            "text/plain": [
              "<matplotlib.axes._subplots.AxesSubplot at 0x7efd70ccba90>"
            ]
          },
          "metadata": {},
          "execution_count": 25
        },
        {
          "output_type": "display_data",
          "data": {
            "text/plain": [
              "<Figure size 842.4x595.44 with 1 Axes>"
            ],
            "image/png": "[encoded data removed]"
          },
          "metadata": {}
        }
      ]
    },
    {
      "cell_type": "markdown",
      "source": [
        "##### 1. Why did you pick the specific chart?"
      ],
      "metadata": {
        "id": "bbFf2-_FphqN"
      }
    },
    {
      "cell_type": "markdown",
      "source": [
        "Answer Here."
      ],
      "metadata": {
        "id": "loh7H2nzphqN"
      }
    },
    {
      "cell_type": "markdown",
      "source": [
        "##### 2. What is/are the insight(s) found from the chart?"
      ],
      "metadata": {
        "id": "_ouA3fa0phqN"
      }
    },
    {
      "cell_type": "markdown",
      "source": [
        "more than 30% of customers choose to stay in city type hotel"
      ],
      "metadata": {
        "id": "VECbqPI7phqN"
      }
    },
    {
      "cell_type": "markdown",
      "source": [
        "##### 3. Will the gained insights help creating a positive business impact?\n",
        "Are there any insights that lead to negative growth? Justify with specific reason."
      ],
      "metadata": {
        "id": "Seke61FWphqN"
      }
    },
    {
      "cell_type": "markdown",
      "source": [
        "Answer Here"
      ],
      "metadata": {
        "id": "DW4_bGpfphqN"
      }
    },
    {
      "cell_type": "markdown",
      "source": [
        "#### Chart - 7"
      ],
      "metadata": {
        "id": "PIIx-8_IphqN"
      }
    },
    {
      "cell_type": "code",
      "source": [
        "# Chart - 7 visualization code\n",
        "different_countries=df1['country'].value_counts()[:5].reset_index()\n",
        "different_countries.rename(columns = {'index':'country','country':'count'}, inplace = True)\n",
        "plt.figure(figsize = (10,5))\n",
        "sns.barplot(x = different_countries['country'], y = different_countries['count'])\n",
        "plt.title('from different countries')\n"
      ],
      "metadata": {
        "id": "lqAIGUfyphqO",
        "colab": {
          "base_uri": "https://localhost:8080/"
        },
        "outputId": "ba0be58e-cd06-4a4f-d187-96b8a9e168a2"
      },
      "execution_count": null,
      "outputs": [
        {
          "output_type": "execute_result",
          "data": {
            "text/plain": [
              "Text(0.5, 1.0, 'from different countries')"
            ]
          },
          "metadata": {},
          "execution_count": 26
        },
        {
          "output_type": "display_data",
          "data": {
            "text/plain": [
              "<Figure size 720x360 with 1 Axes>"
            ],
            "image/png": "[encoded data removed]"
          },
          "metadata": {}
        }
      ]
    },
    {
      "cell_type": "markdown",
      "source": [
        "##### 1. Why did you pick the specific chart?"
      ],
      "metadata": {
        "id": "t27r6nlMphqO"
      }
    },
    {
      "cell_type": "markdown",
      "source": [
        "Answer Here."
      ],
      "metadata": {
        "id": "iv6ro40sphqO"
      }
    },
    {
      "cell_type": "markdown",
      "source": [
        "##### 2. What is/are the insight(s) found from the chart?"
      ],
      "metadata": {
        "id": "r2jJGEOYphqO"
      }
    },
    {
      "cell_type": "markdown",
      "source": [
        "Most of the customers came from Portugal"
      ],
      "metadata": {
        "id": "Po6ZPi4hphqO"
      }
    },
    {
      "cell_type": "markdown",
      "source": [
        "##### 3. Will the gained insights help creating a positive business impact?\n",
        "Are there any insights that lead to negative growth? Justify with specific reason."
      ],
      "metadata": {
        "id": "b0JNsNcRphqO"
      }
    },
    {
      "cell_type": "markdown",
      "source": [
        "Answer Here"
      ],
      "metadata": {
        "id": "xvSq8iUTphqO"
      }
    },
    {
      "cell_type": "markdown",
      "source": [
        "#### Chart - 8"
      ],
      "metadata": {
        "id": "BZR9WyysphqO"
      }
    },
    {
      "cell_type": "code",
      "source": [
        "# Chart - 8 visualization code\n",
        "months=df1.arrival_date_month.value_counts().reset_index()\n",
        "months.rename(columns = {'index':'months','arrival_date_month':'number_of_bookings'}, inplace = True)\n",
        "\n",
        "sns.barplot(x = months['months'], y = months['number_of_bookings'])\n",
        "plt.title('visualizing the months and bookings')\n"
      ],
      "metadata": {
        "id": "TdPTWpAVphqO",
        "colab": {
          "base_uri": "https://localhost:8080/"
        },
        "outputId": "cf24c89c-a2d7-44e1-940f-b9b2046f00fd"
      },
      "execution_count": null,
      "outputs": [
        {
          "output_type": "execute_result",
          "data": {
            "text/plain": [
              "Text(0.5, 1.0, 'visualizing the months and bookings')"
            ]
          },
          "metadata": {},
          "execution_count": 27
        },
        {
          "output_type": "display_data",
          "data": {
            "text/plain": [
              "<Figure size 842.4x595.44 with 1 Axes>"
            ],
            "image/png": "[encoded data removed]"
          },
          "metadata": {}
        }
      ]
    },
    {
      "cell_type": "markdown",
      "source": [
        "##### 1. Why did you pick the specific chart?"
      ],
      "metadata": {
        "id": "jj7wYXLtphqO"
      }
    },
    {
      "cell_type": "markdown",
      "source": [
        "Answer Here."
      ],
      "metadata": {
        "id": "Ob8u6rCTphqO"
      }
    },
    {
      "cell_type": "markdown",
      "source": [
        "##### 2. What is/are the insight(s) found from the chart?"
      ],
      "metadata": {
        "id": "eZrbJ2SmphqO"
      }
    },
    {
      "cell_type": "markdown",
      "source": [
        "many customers are arrived in the month of august"
      ],
      "metadata": {
        "id": "mZtgC_hjphqO"
      }
    },
    {
      "cell_type": "markdown",
      "source": [
        "##### 3. Will the gained insights help creating a positive business impact?\n",
        "Are there any insights that lead to negative growth? Justify with specific reason."
      ],
      "metadata": {
        "id": "rFu4xreNphqO"
      }
    },
    {
      "cell_type": "markdown",
      "source": [
        "Answer Here"
      ],
      "metadata": {
        "id": "ey_0qi68phqO"
      }
    },
    {
      "cell_type": "markdown",
      "source": [
        "#### Chart - 9"
      ],
      "metadata": {
        "id": "YJ55k-q6phqO"
      }
    },
    {
      "cell_type": "code",
      "source": [
        "# Chart - 9 visualization code\n",
        "plt.figure(figsize = (10,5))\n",
        "sns.countplot (x= 'arrival_date_year', data= df1,hue='hotel').set_title ('yearly_booking_of_different_hotels')"
      ],
      "metadata": {
        "id": "B2aS4O1ophqO",
        "colab": {
          "base_uri": "https://localhost:8080/"
        },
        "outputId": "b25cae96-9611-449c-8cfa-1e50c12aa5cb"
      },
      "execution_count": null,
      "outputs": [
        {
          "output_type": "execute_result",
          "data": {
            "text/plain": [
              "Text(0.5, 1.0, 'yearly_booking_of_different_hotels')"
            ]
          },
          "metadata": {},
          "execution_count": 28
        },
        {
          "output_type": "display_data",
          "data": {
            "text/plain": [
              "<Figure size 720x360 with 1 Axes>"
            ],
            "image/png": "[encoded data removed]"
          },
          "metadata": {}
        }
      ]
    },
    {
      "cell_type": "markdown",
      "source": [
        "##### 1. Why did you pick the specific chart?"
      ],
      "metadata": {
        "id": "gCFgpxoyphqP"
      }
    },
    {
      "cell_type": "markdown",
      "source": [
        "Answer Here."
      ],
      "metadata": {
        "id": "TVxDimi2phqP"
      }
    },
    {
      "cell_type": "markdown",
      "source": [
        "##### 2. What is/are the insight(s) found from the chart?"
      ],
      "metadata": {
        "id": "OVtJsKN_phqQ"
      }
    },
    {
      "cell_type": "markdown",
      "source": [
        "in the data they specified three years among all those 2016 has a good record of bookings"
      ],
      "metadata": {
        "id": "ngGi97qjphqQ"
      }
    },
    {
      "cell_type": "markdown",
      "source": [
        "##### 3. Will the gained insights help creating a positive business impact?\n",
        "Are there any insights that lead to negative growth? Justify with specific reason."
      ],
      "metadata": {
        "id": "lssrdh5qphqQ"
      }
    },
    {
      "cell_type": "markdown",
      "source": [
        "Answer Here"
      ],
      "metadata": {
        "id": "tBpY5ekJphqQ"
      }
    },
    {
      "cell_type": "markdown",
      "source": [
        "#### Chart - 10"
      ],
      "metadata": {
        "id": "U2RJ9gkRphqQ"
      }
    },
    {
      "cell_type": "code",
      "source": [
        "# Chart - 10 visualization code\n"
      ],
      "metadata": {
        "id": "GM7a4YP4phqQ"
      },
      "execution_count": null,
      "outputs": []
    },
    {
      "cell_type": "code",
      "source": [
        "m_s=df1['market_segment'].value_counts().reset_index()"
      ],
      "metadata": {
        "id": "ccR82lleVEAj"
      },
      "execution_count": null,
      "outputs": []
    },
    {
      "cell_type": "code",
      "source": [
        "\n",
        "sns.countplot(x = df1['market_segment'])\n",
        "\n"
      ],
      "metadata": {
        "colab": {
          "base_uri": "https://localhost:8080/"
        },
        "id": "tiklhRQLb03u",
        "outputId": "96a8b748-18b3-4356-d0eb-cd0a9839bd8a"
      },
      "execution_count": null,
      "outputs": [
        {
          "output_type": "execute_result",
          "data": {
            "text/plain": [
              "<matplotlib.axes._subplots.AxesSubplot at 0x7efd70b08f70>"
            ]
          },
          "metadata": {},
          "execution_count": 31
        },
        {
          "output_type": "display_data",
          "data": {
            "text/plain": [
              "<Figure size 842.4x595.44 with 1 Axes>"
            ],
            "image/png": "[encoded data removed]"
          },
          "metadata": {}
        }
      ]
    },
    {
      "cell_type": "markdown",
      "source": [
        "##### 1. Why did you pick the specific chart?"
      ],
      "metadata": {
        "id": "1M8mcRywphqQ"
      }
    },
    {
      "cell_type": "markdown",
      "source": [
        "Answer Here."
      ],
      "metadata": {
        "id": "8agQvks0phqQ"
      }
    },
    {
      "cell_type": "markdown",
      "source": [
        "##### 2. What is/are the insight(s) found from the chart?"
      ],
      "metadata": {
        "id": "tgIPom80phqQ"
      }
    },
    {
      "cell_type": "markdown",
      "source": [
        "TA is mostly used for planning Hotel visits"
      ],
      "metadata": {
        "id": "Qp13pnNzphqQ"
      }
    },
    {
      "cell_type": "markdown",
      "source": [
        "##### 3. Will the gained insights help creating a positive business impact?\n",
        "Are there any insights that lead to negative growth? Justify with specific reason."
      ],
      "metadata": {
        "id": "JMzcOPDDphqR"
      }
    },
    {
      "cell_type": "markdown",
      "source": [
        "Answer Here"
      ],
      "metadata": {
        "id": "R4Ka1PC2phqR"
      }
    },
    {
      "cell_type": "markdown",
      "source": [
        "#### Chart - 11"
      ],
      "metadata": {
        "id": "x-EpHcCOp1ci"
      }
    },
    {
      "cell_type": "code",
      "source": [
        "# Chart - 11 visualization code\n",
        "sns.countplot(x = df1['customer_type'])\n",
        "plt.show()"
      ],
      "metadata": {
        "id": "mAQTIvtqp1cj",
        "colab": {
          "base_uri": "https://localhost:8080/"
        },
        "outputId": "3a09fb47-3acd-445b-972f-b19c23bc4442"
      },
      "execution_count": null,
      "outputs": [
        {
          "output_type": "display_data",
          "data": {
            "text/plain": [
              "<Figure size 842.4x595.44 with 1 Axes>"
            ],
            "image/png": "[encoded data removed]"
          },
          "metadata": {}
        }
      ]
    },
    {
      "cell_type": "markdown",
      "source": [
        "##### 1. Why did you pick the specific chart?"
      ],
      "metadata": {
        "id": "X_VqEhTip1ck"
      }
    },
    {
      "cell_type": "markdown",
      "source": [
        "to show the customer type and the count of their bookings\n",
        "most of the bookings were done by transient"
      ],
      "metadata": {
        "id": "-vsMzt_np1ck"
      }
    },
    {
      "cell_type": "markdown",
      "source": [
        "##### 2. What is/are the insight(s) found from the chart?"
      ],
      "metadata": {
        "id": "8zGJKyg5p1ck"
      }
    },
    {
      "cell_type": "markdown",
      "source": [
        "a person who is staying or working in a place for a short time only visited these hotels"
      ],
      "metadata": {
        "id": "ZYdMsrqVp1ck"
      }
    },
    {
      "cell_type": "markdown",
      "source": [
        "##### 3. Will the gained insights help creating a positive business impact?\n",
        "Are there any insights that lead to negative growth? Justify with specific reason."
      ],
      "metadata": {
        "id": "PVzmfK_Ep1ck"
      }
    },
    {
      "cell_type": "markdown",
      "source": [],
      "metadata": {
        "id": "druuKYZpp1ck"
      }
    },
    {
      "cell_type": "markdown",
      "source": [
        "#### Chart - 12"
      ],
      "metadata": {
        "id": "n3dbpmDWp1ck"
      }
    },
    {
      "cell_type": "code",
      "source": [
        "# Chart - 12 visualization code\n",
        "sns.countplot(x = df1['deposit_type'])\n",
        "plt.show()"
      ],
      "metadata": {
        "id": "bwevp1tKp1ck",
        "colab": {
          "base_uri": "https://localhost:8080/"
        },
        "outputId": "c8e8ac50-d5ef-41ab-a810-af2848083e2e"
      },
      "execution_count": null,
      "outputs": [
        {
          "output_type": "display_data",
          "data": {
            "text/plain": [
              "<Figure size 842.4x595.44 with 1 Axes>"
            ],
            "image/png": "[encoded data removed]"
          },
          "metadata": {}
        }
      ]
    },
    {
      "cell_type": "markdown",
      "source": [
        "##### 1. Why did you pick the specific chart?"
      ],
      "metadata": {
        "id": "ylSl6qgtp1ck"
      }
    },
    {
      "cell_type": "markdown",
      "source": [
        "to see the count of deposit type"
      ],
      "metadata": {
        "id": "m2xqNkiQp1ck"
      }
    },
    {
      "cell_type": "markdown",
      "source": [
        "##### 2. What is/are the insight(s) found from the chart?"
      ],
      "metadata": {
        "id": "ZWILFDl5p1ck"
      }
    },
    {
      "cell_type": "markdown",
      "source": [
        "i came to know that no deposit type are higher in number"
      ],
      "metadata": {
        "id": "x-lUsV2mp1ck"
      }
    },
    {
      "cell_type": "markdown",
      "source": [
        "##### 3. Will the gained insights help creating a positive business impact?\n",
        "Are there any insights that lead to negative growth? Justify with specific reason."
      ],
      "metadata": {
        "id": "M7G43BXep1ck"
      }
    },
    {
      "cell_type": "markdown",
      "source": [
        "Answer Here"
      ],
      "metadata": {
        "id": "5wwDJXsLp1cl"
      }
    },
    {
      "cell_type": "markdown",
      "source": [
        "#### Chart - 13"
      ],
      "metadata": {
        "id": "Ag9LCva-p1cl"
      }
    },
    {
      "cell_type": "code",
      "source": [
        "# Chart - 13 visualization codetotal_stay\n",
        "sns.countplot(x = df1['total_stay'])\n",
        "plt.show()"
      ],
      "metadata": {
        "id": "EUfxeq9-p1cl",
        "colab": {
          "base_uri": "https://localhost:8080/"
        },
        "outputId": "0b5cc171-451c-4736-cfac-0acbdff4b3bc"
      },
      "execution_count": null,
      "outputs": [
        {
          "output_type": "display_data",
          "data": {
            "text/plain": [
              "<Figure size 842.4x595.44 with 1 Axes>"
            ],
            "image/png": "[encoded data removed]"
          },
          "metadata": {}
        }
      ]
    },
    {
      "cell_type": "markdown",
      "source": [
        "##### 1. Why did you pick the specific chart?"
      ],
      "metadata": {
        "id": "E6MkPsBcp1cl"
      }
    },
    {
      "cell_type": "markdown",
      "source": [
        "i have picked this countplot to see the count of total stay in hotels"
      ],
      "metadata": {
        "id": "V22bRsFWp1cl"
      }
    },
    {
      "cell_type": "markdown",
      "source": [
        "##### 2. What is/are the insight(s) found from the chart?"
      ],
      "metadata": {
        "id": "2cELzS2fp1cl"
      }
    },
    {
      "cell_type": "markdown",
      "source": [
        "i found many of them are stayed around 4 days in hotel"
      ],
      "metadata": {
        "id": "ozQPc2_Ip1cl"
      }
    },
    {
      "cell_type": "markdown",
      "source": [
        "##### 3. Will the gained insights help creating a positive business impact?\n",
        "Are there any insights that lead to negative growth? Justify with specific reason."
      ],
      "metadata": {
        "id": "3MPXvC8up1cl"
      }
    },
    {
      "cell_type": "markdown",
      "source": [
        "having more tourist spots will make people to stay for longer"
      ],
      "metadata": {
        "id": "GL8l1tdLp1cl"
      }
    },
    {
      "cell_type": "markdown",
      "source": [
        "#### Chart - 14 - Correlation Heatmap"
      ],
      "metadata": {
        "id": "NC_X3p0fY2L0"
      }
    },
    {
      "cell_type": "code",
      "source": [
        "# Correlation Heatmap visualization code\n",
        "df3=df1[['hotel', 'is_canceled', 'lead_time', 'meal',\n",
        "       'country', 'market_segment', 'distribution_channel',\n",
        "       'is_repeated_guest', 'previous_cancellations',\n",
        "       'previous_bookings_not_canceled', 'reserved_room_type',\n",
        "       'assigned_room_type', 'booking_changes', 'deposit_type', 'agent',\n",
        "       'company', 'days_in_waiting_list', 'customer_type', 'adr',\n",
        "       'required_car_parking_spaces', 'total_of_special_requests',\n",
        "       'reservation_status', 'reservation_status_date', 'total_stay',\n",
        "       'total_people']]\n",
        "corr=df3.corr()\n",
        "sns.heatmap(corr)"
      ],
      "metadata": {
        "id": "xyC9zolEZNRQ",
        "colab": {
          "base_uri": "https://localhost:8080/"
        },
        "outputId": "c5298000-0c60-4628-f219-950f36892210"
      },
      "execution_count": null,
      "outputs": [
        {
          "output_type": "execute_result",
          "data": {
            "text/plain": [
              "<matplotlib.axes._subplots.AxesSubplot at 0x7efd70a4bc40>"
            ]
          },
          "metadata": {},
          "execution_count": 35
        },
        {
          "output_type": "display_data",
          "data": {
            "text/plain": [
              "<Figure size 842.4x595.44 with 2 Axes>"
            ],
            "image/png": "[encoded data removed]"
          },
          "metadata": {}
        }
      ]
    },
    {
      "cell_type": "markdown",
      "source": [
        "##### 1. Why did you pick the specific chart?"
      ],
      "metadata": {
        "id": "UV0SzAkaZNRQ"
      }
    },
    {
      "cell_type": "markdown",
      "source": [
        "i have picked the correlation heatmap to see wheather the data postively or negatively correlated"
      ],
      "metadata": {
        "id": "DVPuT8LYZNRQ"
      }
    },
    {
      "cell_type": "markdown",
      "source": [
        "##### 2. What is/are the insight(s) found from the chart?"
      ],
      "metadata": {
        "id": "YPEH6qLeZNRQ"
      }
    },
    {
      "cell_type": "markdown",
      "source": [
        "in the heatmap i can see adr and total people is positively correlated around(0.42) and also previous_bookings_not_canceled and repeted guest are also correlated positively"
      ],
      "metadata": {
        "id": "bfSqtnDqZNRR"
      }
    },
    {
      "cell_type": "markdown",
      "source": [
        "#### Chart - 15 - Pair Plot"
      ],
      "metadata": {
        "id": "q29F0dvdveiT"
      }
    },
    {
      "cell_type": "code",
      "source": [
        "df2=df1[['total_stay','total_people','adr']]"
      ],
      "metadata": {
        "id": "zgrOppo4kT2r"
      },
      "execution_count": null,
      "outputs": []
    },
    {
      "cell_type": "code",
      "source": [
        "# Pair Plot visualization code\n",
        "sns.pairplot(data=df2,hue='adr')"
      ],
      "metadata": {
        "id": "o58-TEIhveiU",
        "colab": {
          "base_uri": "https://localhost:8080/"
        },
        "outputId": "120b12be-8010-49c7-fd6b-15332d0db02e"
      },
      "execution_count": null,
      "outputs": [
        {
          "output_type": "execute_result",
          "data": {
            "text/plain": [
              "<seaborn.axisgrid.PairGrid at 0x7efd6e103d30>"
            ]
          },
          "metadata": {},
          "execution_count": 37
        },
        {
          "output_type": "display_data",
          "data": {
            "text/plain": [
              "<Figure size 420.6x360 with 6 Axes>"
            ],
            "image/png": "[encoded data removed]"
          },
          "metadata": {}
        }
      ]
    },
    {
      "cell_type": "markdown",
      "source": [
        "##### 1. Why did you pick the specific chart?"
      ],
      "metadata": {
        "id": "EXh0U9oCveiU"
      }
    },
    {
      "cell_type": "markdown",
      "source": [
        "Answer Here."
      ],
      "metadata": {
        "id": "eMmPjTByveiU"
      }
    },
    {
      "cell_type": "markdown",
      "source": [
        "##### 2. What is/are the insight(s) found from the chart?"
      ],
      "metadata": {
        "id": "22aHeOlLveiV"
      }
    },
    {
      "cell_type": "markdown",
      "source": [
        "from this i see that for  no of people and the period of stay is more then the adr is comparetively lower"
      ],
      "metadata": {
        "id": "uPQ8RGwHveiV"
      }
    },
    {
      "cell_type": "markdown",
      "source": [
        "## **5. Solution to Business Objective**"
      ],
      "metadata": {
        "id": "JcMwzZxoAimU"
      }
    },
    {
      "cell_type": "markdown",
      "source": [
        "#### What do you suggest the client to achieve Business Objective ?\n",
        "Explain Briefly."
      ],
      "metadata": {
        "id": "8G2x9gOozGDZ"
      }
    },
    {
      "cell_type": "markdown",
      "source": [
        "i will suggest that the owner of the hotels to bulild more city type hotels and the A and H room type to acheive maximum profits"
      ],
      "metadata": {
        "id": "pASKb0qOza21"
      }
    },
    {
      "cell_type": "markdown",
      "source": [
        "# **Conclusion**"
      ],
      "metadata": {
        "id": "gCX9965dhzqZ"
      }
    },
    {
      "cell_type": "markdown",
      "source": [
        "![image.png](data:image/png;base64,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)"
      ],
      "metadata": {
        "id": "Fjb1IsQkh3yE"
      }
    },
    {
      "cell_type": "markdown",
      "source": [
        "### ***Hurrah! You have successfully completed your EDA Capstone Project !!!***"
      ],
      "metadata": {
        "id": "gIfDvo9L0UH2"
      }
    },
    {
      "cell_type": "code",
      "source": [
        "from autoviz.AutoViz_Class import AutoViz_Class"
      ],
      "metadata": {
        "colab": {
          "base_uri": "https://localhost:8080/",
          "height": 304
        },
        "id": "O0pnCi9_rsdM",
        "outputId": "25f940db-d9ce-4aca-a61e-a6bf4a57deb4"
      },
      "execution_count": null,
      "outputs": [
        {
          "output_type": "error",
          "ename": "ModuleNotFoundError",
          "evalue": "ignored",
          "traceback": [
            "\u001b[0;31m---------------------------------------------------------------------------\u001b[0m",
            "\u001b[0;31mModuleNotFoundError\u001b[0m                       Traceback (most recent call last)",
            "\u001b[0;32m<ipython-input-38-27e4fae017e1>\u001b[0m in \u001b[0;36m<module>\u001b[0;34m\u001b[0m\n\u001b[0;32m----> 1\u001b[0;31m \u001b[0;32mfrom\u001b[0m \u001b[0mautoviz\u001b[0m\u001b[0;34m.\u001b[0m\u001b[0mAutoViz_Class\u001b[0m \u001b[0;32mimport\u001b[0m \u001b[0mAutoViz_Class\u001b[0m\u001b[0;34m\u001b[0m\u001b[0;34m\u001b[0m\u001b[0m\n\u001b[0m",
            "\u001b[0;31mModuleNotFoundError\u001b[0m: No module named 'autoviz'",
            "",
            "\u001b[0;31m---------------------------------------------------------------------------\u001b[0;32m\nNOTE: If your import is failing due to a missing package, you can\nmanually install dependencies using either !pip or !apt.\n\nTo view examples of installing some common dependencies, click the\n\"Open Examples\" button below.\n\u001b[0;31m---------------------------------------------------------------------------\u001b[0m\n"
          ],
          "errorDetails": {
            "actions": [
              {
                "action": "open_url",
                "actionText": "Open Examples",
                "url": "/notebooks/snippets/importing_libraries.ipynb"
              }
            ]
          }
        }
      ]
    }
  ]
}